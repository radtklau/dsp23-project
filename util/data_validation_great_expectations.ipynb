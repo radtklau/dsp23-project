{
 "cells": [
  {
   "cell_type": "code",
   "execution_count": 1,
   "id": "00ea28ce-03c2-4b27-b114-6b87e65168ae",
   "metadata": {},
   "outputs": [],
   "source": [
    "import great_expectations as gx\n",
    "import pandas as pd\n",
    "from datetime import datetime\n",
    "from great_expectations.checkpoint import Checkpoint\n",
    "from great_expectations.data_context.types.base import DataContextConfig"
   ]
  },
  {
   "cell_type": "code",
   "execution_count": 2,
   "id": "037a4cee-5836-4c06-8851-4453412d2301",
   "metadata": {},
   "outputs": [],
   "source": [
    "def validate(path, df):\n",
    "    context = gx.get_context()\n",
    "    now = datetime.now()\n",
    "\n",
    "    datasource  = context.sources.add_pandas(\"house_datasource\")\n",
    "    data_asset = datasource.add_dataframe_asset(name=\"house_asset\")\n",
    "    batch_request = data_asset.build_batch_request(dataframe=df)\n",
    "\n",
    "    context.add_or_update_expectation_suite(expectation_suite_name='expectation_house')\n",
    "    validator = context.get_validator(\n",
    "        batch_request=data_asset.build_batch_request(dataframe=df),\n",
    "        expectation_suite_name='expectation_house',\n",
    "    )\n",
    "    \n",
    "    validator.expect_column_values_to_not_be_null('TotRmsAbvGrd')\n",
    "    validator.expect_column_values_to_be_between('TotRmsAbvGrd', min_value=1, max_value=30)\n",
    "    validator.expect_column_values_to_not_be_null('WoodDeckSF')\n",
    "    validator.expect_column_values_to_not_be_null('YrSold')\n",
    "    validator.expect_column_values_to_not_be_null('1stFlrSF')\n",
    "    validator.expect_column_values_to_not_be_null('Foundation')\n",
    "    validator.expect_column_values_to_be_in_set(column='Foundation', value_set = [\n",
    "        'BrkTil',\n",
    "        'CBlock',\n",
    "        'PConc',\n",
    "        'Slab',\n",
    "        'Stone',\n",
    "        'Wood',\n",
    "    ])\n",
    "    validator.expect_column_values_to_not_be_null('KitchenQual')\n",
    "    validator.save_expectation_suite(discard_failed_expectations=False)\n",
    "\n",
    "    checkpoint = Checkpoint(\n",
    "        name=\"house_checkpoint\",\n",
    "        run_name_template=\"housing_checkpoint\",\n",
    "        data_context=context,\n",
    "        batch_request=batch_request,\n",
    "        expectation_suite_name='expectation_house',\n",
    "        action_list=[\n",
    "            {\n",
    "                \"name\": \"store_validation_result\",\n",
    "                \"action\": {\"class_name\": \"StoreValidationResultAction\"},\n",
    "            },\n",
    "                {\"name\": \"update_data_docs\", \"action\": {\"class_name\": \"UpdateDataDocsAction\"}},\n",
    "            ],\n",
    "        )\n",
    "\n",
    "    context.add_or_update_checkpoint(checkpoint=checkpoint)\n",
    "    result_format: dict = {\n",
    "        \"result_format\": \"COMPLETE\",\n",
    "        \"unexpected_index_column_names\": [\"Id\"],\n",
    "    }\n",
    "    return checkpoint.run(result_format=result_format)"
   ]
  },
  {
   "cell_type": "code",
   "execution_count": 7,
   "id": "d8ea81fd-893b-44d9-807d-852493074745",
   "metadata": {},
   "outputs": [],
   "source": [
    "def log_failed_expectations(result_json):\n",
    "    run_results = result_json['run_results']\n",
    "    val_result_id = list(run_results)[0]\n",
    "    val_results = run_results[val_result_id]['validation_result']\n",
    "\n",
    "    info = \"\" \n",
    "    failed_rows = []\n",
    "    for res in val_results['results']:\n",
    "        if res['success'] == False:\n",
    "            info += f\"column -> {res['expectation_config']['kwargs']['column'] }\\n\"\n",
    "            info += f\"    expectation_config -> {res['expectation_config']['expectation_type']}\\n\"\n",
    "            indexes_list = res['result']['partial_unexpected_index_list']\n",
    "            failed_rows_id = [item['Id'] for item in indexes_list]\n",
    "            info += f\"    rows with errors -> {failed_rows_id}\\n\"\n",
    "            failed_rows = list(set(failed_rows + failed_rows_id))\n",
    "\n",
    "    return info, failed_rows"
   ]
  },
  {
   "cell_type": "code",
   "execution_count": 21,
   "id": "44e8fcdf-1c53-44fc-ba34-9e5314a5bf5e",
   "metadata": {},
   "outputs": [
    {
     "data": {
      "application/vnd.jupyter.widget-view+json": {
       "model_id": "d49950d07f4940b48c1108ca359bdb5e",
       "version_major": 2,
       "version_minor": 0
      },
      "text/plain": [
       "Calculating Metrics:   0%|          | 0/6 [00:00<?, ?it/s]"
      ]
     },
     "metadata": {},
     "output_type": "display_data"
    },
    {
     "data": {
      "application/vnd.jupyter.widget-view+json": {
       "model_id": "4077013f5ebe44b5b0cb8a7571c7b2fc",
       "version_major": 2,
       "version_minor": 0
      },
      "text/plain": [
       "Calculating Metrics:   0%|          | 0/8 [00:00<?, ?it/s]"
      ]
     },
     "metadata": {},
     "output_type": "display_data"
    },
    {
     "data": {
      "application/vnd.jupyter.widget-view+json": {
       "model_id": "562e1509dc3742e5b4bcb3a2de3ea4d6",
       "version_major": 2,
       "version_minor": 0
      },
      "text/plain": [
       "Calculating Metrics:   0%|          | 0/6 [00:00<?, ?it/s]"
      ]
     },
     "metadata": {},
     "output_type": "display_data"
    },
    {
     "data": {
      "application/vnd.jupyter.widget-view+json": {
       "model_id": "9e2b64677482401d991acb2b069e7e0e",
       "version_major": 2,
       "version_minor": 0
      },
      "text/plain": [
       "Calculating Metrics:   0%|          | 0/6 [00:00<?, ?it/s]"
      ]
     },
     "metadata": {},
     "output_type": "display_data"
    },
    {
     "data": {
      "application/vnd.jupyter.widget-view+json": {
       "model_id": "ea7973a7c5644a41b8764cd152fd19d5",
       "version_major": 2,
       "version_minor": 0
      },
      "text/plain": [
       "Calculating Metrics:   0%|          | 0/6 [00:00<?, ?it/s]"
      ]
     },
     "metadata": {},
     "output_type": "display_data"
    },
    {
     "data": {
      "application/vnd.jupyter.widget-view+json": {
       "model_id": "47dda0a36ebb4997b593e4e1f6114c8e",
       "version_major": 2,
       "version_minor": 0
      },
      "text/plain": [
       "Calculating Metrics:   0%|          | 0/6 [00:00<?, ?it/s]"
      ]
     },
     "metadata": {},
     "output_type": "display_data"
    },
    {
     "data": {
      "application/vnd.jupyter.widget-view+json": {
       "model_id": "ac338802c79747809a38d3655ed11a72",
       "version_major": 2,
       "version_minor": 0
      },
      "text/plain": [
       "Calculating Metrics:   0%|          | 0/8 [00:00<?, ?it/s]"
      ]
     },
     "metadata": {},
     "output_type": "display_data"
    },
    {
     "data": {
      "application/vnd.jupyter.widget-view+json": {
       "model_id": "0c1b93d7a2824fceb4ecefd3454273a6",
       "version_major": 2,
       "version_minor": 0
      },
      "text/plain": [
       "Calculating Metrics:   0%|          | 0/6 [00:00<?, ?it/s]"
      ]
     },
     "metadata": {},
     "output_type": "display_data"
    },
    {
     "data": {
      "application/vnd.jupyter.widget-view+json": {
       "model_id": "a6c5d0d549484e8c95be46febb433db0",
       "version_major": 2,
       "version_minor": 0
      },
      "text/plain": [
       "Calculating Metrics:   0%|          | 0/43 [00:00<?, ?it/s]"
      ]
     },
     "metadata": {},
     "output_type": "display_data"
    },
    {
     "name": "stdout",
     "output_type": "stream",
     "text": [
      "column -> TotRmsAbvGrd\n",
      "    expectation_config -> expect_column_values_to_not_be_null\n",
      "    rows with errors -> [1186, 386]\n",
      "\n",
      "[1186, 386]\n"
     ]
    }
   ],
   "source": [
    "# path = '../data/folder_C/_file_0.csv'\n",
    "path = '../data/folder_A/file_0.csv'\n",
    "\n",
    "df = pd.read_csv(path)\n",
    "df['TotRmsAbvGrd'][0] = None\n",
    "df['TotRmsAbvGrd'][1] = None\n",
    "\n",
    "result = validate(path,df)\n",
    "log,failed_rows = log_failed_expectations(result.to_json_dict())\n",
    "print(log)\n",
    "print(failed_rows)"
   ]
  },
  {
   "cell_type": "code",
   "execution_count": 36,
   "id": "a9dfc660-454d-4cbd-9574-1293fbd0e357",
   "metadata": {},
   "outputs": [
    {
     "data": {
      "text/plain": [
       "[1315, 400, 828, 243, 1240, 340, 1076, 700]"
      ]
     },
     "execution_count": 36,
     "metadata": {},
     "output_type": "execute_result"
    }
   ],
   "source": [
    "filtered_df = df[~df['Id'].isin(failed_rows)]\n",
    "\n",
    "rows = list(filtered_df['Id'].values)\n",
    "rows"
   ]
  },
  {
   "cell_type": "code",
   "execution_count": 9,
   "id": "222e827b-3597-46fd-950b-5ec02341cbdc",
   "metadata": {},
   "outputs": [
    {
     "data": {
      "application/vnd.jupyter.widget-view+json": {
       "model_id": "53225a1acc6b4e51b0ae1af18d15581a",
       "version_major": 2,
       "version_minor": 0
      },
      "text/plain": [
       "Calculating Metrics:   0%|          | 0/6 [00:00<?, ?it/s]"
      ]
     },
     "metadata": {},
     "output_type": "display_data"
    },
    {
     "data": {
      "application/vnd.jupyter.widget-view+json": {
       "model_id": "058fba0441da4cc3afd68bd2cc2b27da",
       "version_major": 2,
       "version_minor": 0
      },
      "text/plain": [
       "Calculating Metrics:   0%|          | 0/8 [00:00<?, ?it/s]"
      ]
     },
     "metadata": {},
     "output_type": "display_data"
    },
    {
     "data": {
      "application/vnd.jupyter.widget-view+json": {
       "model_id": "57a406568af741b9a78e4210451fb5e8",
       "version_major": 2,
       "version_minor": 0
      },
      "text/plain": [
       "Calculating Metrics:   0%|          | 0/6 [00:00<?, ?it/s]"
      ]
     },
     "metadata": {},
     "output_type": "display_data"
    },
    {
     "data": {
      "application/vnd.jupyter.widget-view+json": {
       "model_id": "e1f46296d5d34b959cacef64c31d8158",
       "version_major": 2,
       "version_minor": 0
      },
      "text/plain": [
       "Calculating Metrics:   0%|          | 0/6 [00:00<?, ?it/s]"
      ]
     },
     "metadata": {},
     "output_type": "display_data"
    },
    {
     "data": {
      "application/vnd.jupyter.widget-view+json": {
       "model_id": "3e1c37a3417b456694f16fbf8bc9a540",
       "version_major": 2,
       "version_minor": 0
      },
      "text/plain": [
       "Calculating Metrics:   0%|          | 0/6 [00:00<?, ?it/s]"
      ]
     },
     "metadata": {},
     "output_type": "display_data"
    },
    {
     "data": {
      "application/vnd.jupyter.widget-view+json": {
       "model_id": "eff87f8973bd40e88280e5f065c7024d",
       "version_major": 2,
       "version_minor": 0
      },
      "text/plain": [
       "Calculating Metrics:   0%|          | 0/6 [00:00<?, ?it/s]"
      ]
     },
     "metadata": {},
     "output_type": "display_data"
    },
    {
     "data": {
      "application/vnd.jupyter.widget-view+json": {
       "model_id": "23b7e45f61404b51951b93897f69f6f2",
       "version_major": 2,
       "version_minor": 0
      },
      "text/plain": [
       "Calculating Metrics:   0%|          | 0/8 [00:00<?, ?it/s]"
      ]
     },
     "metadata": {},
     "output_type": "display_data"
    },
    {
     "data": {
      "application/vnd.jupyter.widget-view+json": {
       "model_id": "5fe12d096ed54e2b9e1c888a9869218e",
       "version_major": 2,
       "version_minor": 0
      },
      "text/plain": [
       "Calculating Metrics:   0%|          | 0/6 [00:00<?, ?it/s]"
      ]
     },
     "metadata": {},
     "output_type": "display_data"
    },
    {
     "data": {
      "application/vnd.jupyter.widget-view+json": {
       "model_id": "4f8b041584584618bf943434d9d681ee",
       "version_major": 2,
       "version_minor": 0
      },
      "text/plain": [
       "Calculating Metrics:   0%|          | 0/43 [00:00<?, ?it/s]"
      ]
     },
     "metadata": {},
     "output_type": "display_data"
    },
    {
     "name": "stdout",
     "output_type": "stream",
     "text": [
      "column -> Foundation\n",
      "    expectation_config -> expect_column_values_to_be_in_set\n",
      "    rows with errors -> [1186, 386, 1315, 400, 828, 243, 1240, 340, 1076]\n",
      "column -> KitchenQual\n",
      "    expectation_config -> expect_column_values_to_not_be_null\n",
      "    rows with errors -> [1186, 386]\n",
      "\n",
      "[1186, 1315, 386, 400, 243, 340, 1076, 1240, 828]\n"
     ]
    }
   ],
   "source": [
    "path = '../data/folder_C/_file_0.csv'\n",
    "context = gx.get_context()\n",
    "df = pd.read_csv(path)\n",
    "result = validate(path,df)\n",
    "log, failed_rows = log_failed_expectations(result.to_json_dict())\n",
    "print(log)\n",
    "print(failed_rows)"
   ]
  }
 ],
 "metadata": {
  "kernelspec": {
   "display_name": "Python 3 (ipykernel)",
   "language": "python",
   "name": "python3"
  },
  "language_info": {
   "codemirror_mode": {
    "name": "ipython",
    "version": 3
   },
   "file_extension": ".py",
   "mimetype": "text/x-python",
   "name": "python",
   "nbconvert_exporter": "python",
   "pygments_lexer": "ipython3",
   "version": "3.9.18"
  }
 },
 "nbformat": 4,
 "nbformat_minor": 5
}
