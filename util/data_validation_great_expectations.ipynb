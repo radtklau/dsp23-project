{
 "cells": [
  {
   "cell_type": "code",
   "execution_count": 1,
   "id": "00ea28ce-03c2-4b27-b114-6b87e65168ae",
   "metadata": {},
   "outputs": [],
   "source": [
    "import great_expectations as gx\n",
    "import pandas as pd\n",
    "from datetime import datetime\n",
    "from great_expectations.checkpoint import Checkpoint\n",
    "from great_expectations.data_context.types.base import DataContextConfig"
   ]
  },
  {
   "cell_type": "code",
   "execution_count": 16,
   "id": "037a4cee-5836-4c06-8851-4453412d2301",
   "metadata": {},
   "outputs": [],
   "source": [
    "def validate(path, df):\n",
    "    context = gx.get_context()\n",
    "    now = datetime.now()\n",
    "\n",
    "    datasource  = context.sources.add_pandas(\"house_datasource\")\n",
    "    data_asset = datasource.add_dataframe_asset(name=\"house_asset\")\n",
    "    batch_request = data_asset.build_batch_request(dataframe=df)\n",
    "\n",
    "    context.add_or_update_expectation_suite(expectation_suite_name='expectation_house')\n",
    "    validator = context.get_validator(\n",
    "        batch_request=data_asset.build_batch_request(dataframe=df),\n",
    "        expectation_suite_name='expectation_house',\n",
    "    )\n",
    "    \n",
    "    validator.expect_column_values_to_not_be_null('TotRmsAbvGrd')\n",
    "    validator.expect_column_values_to_be_between('TotRmsAbvGrd', min_value=1, max_value=30)\n",
    "    validator.expect_column_values_to_not_be_null('WoodDeckSF')\n",
    "    validator.expect_column_values_to_not_be_null('YrSold')\n",
    "    validator.expect_column_values_to_not_be_null('1stFlrSF')\n",
    "    validator.expect_column_values_to_not_be_null('Foundation')\n",
    "    validator.expect_column_values_to_be_in_set(column='Foundation', value_set = [\n",
    "        'BrkTil',\n",
    "        'CBlock',\n",
    "        'PConc',\n",
    "        'Slab',\n",
    "        'Stone',\n",
    "        'Wood',\n",
    "    ])\n",
    "    validator.expect_column_values_to_not_be_null('KitchenQual')\n",
    "    validator.expect_column_values_to_be_in_set(column='KitchenQual', value_set = [\n",
    "        'Ex',\n",
    "        'Gd',\n",
    "        'TA',\n",
    "        'Fa',\n",
    "        'Po',\n",
    "    ])\n",
    "    validator.save_expectation_suite(discard_failed_expectations=False)\n",
    "\n",
    "    checkpoint = Checkpoint(\n",
    "        name=\"house_checkpoint\",\n",
    "        run_name_template=\"housing_checkpoint\",\n",
    "        data_context=context,\n",
    "        batch_request=batch_request,\n",
    "        expectation_suite_name='expectation_house',\n",
    "        action_list=[\n",
    "            {\n",
    "                \"name\": \"store_validation_result\",\n",
    "                \"action\": {\"class_name\": \"StoreValidationResultAction\"},\n",
    "            },\n",
    "                {\"name\": \"update_data_docs\", \"action\": {\"class_name\": \"UpdateDataDocsAction\"}},\n",
    "            ],\n",
    "        )\n",
    "\n",
    "    context.add_or_update_checkpoint(checkpoint=checkpoint)\n",
    "    result_format: dict = {\n",
    "        \"result_format\": \"COMPLETE\",\n",
    "        \"unexpected_index_column_names\": [\"Id\"],\n",
    "    }\n",
    "    return checkpoint.run(result_format=result_format)"
   ]
  },
  {
   "cell_type": "code",
   "execution_count": 22,
   "id": "d8ea81fd-893b-44d9-807d-852493074745",
   "metadata": {},
   "outputs": [],
   "source": [
    "def log_failed_expectations(result_json):\n",
    "    run_results = result_json['run_results']\n",
    "    val_result_id = list(run_results)[0]\n",
    "    val_results = run_results[val_result_id]['validation_result']\n",
    "\n",
    "    info = \"\"\n",
    "    \n",
    "    failed_rows = []\n",
    "    failed_cols = []\n",
    "    failed_conf = []\n",
    "    \n",
    "    for res in val_results['results']:\n",
    "        if res['success'] == False:\n",
    "            _col = res['expectation_config']['kwargs']['column'] \n",
    "            _exp_conf = res['expectation_config']['expectation_type']\n",
    "            info += f'column -> {_col}\\n'\n",
    "            info += f'    expectation_config -> {_exp_conf}\\n'\n",
    "            indexes_list = res['result']['partial_unexpected_index_list']\n",
    "            failed_rows_id = [item['Id'] for item in indexes_list]\n",
    "            failed_rows = list(set(failed_rows + failed_rows_id))\n",
    "            failed_conf = list(set(failed_conf + [_exp_conf]))\n",
    "            failed_cols = list(set(failed_cols + [_col]))\n",
    "            info += f'    rows with errors -> {failed_rows_id}\\n'\n",
    "\n",
    "    desc = f'Validation Error on Rows {failed_rows} of file _FILENAME_ !'\n",
    "    desc += f'Columns {failed_cols} failed on the following expectations : {failed_conf}'\n",
    "    \n",
    "    return desc, failed_rows"
   ]
  },
  {
   "cell_type": "code",
   "execution_count": 23,
   "id": "44e8fcdf-1c53-44fc-ba34-9e5314a5bf5e",
   "metadata": {},
   "outputs": [
    {
     "data": {
      "application/vnd.jupyter.widget-view+json": {
       "model_id": "5b6d1a9567be4f44ae7a539a0121b054",
       "version_major": 2,
       "version_minor": 0
      },
      "text/plain": [
       "Calculating Metrics:   0%|          | 0/6 [00:00<?, ?it/s]"
      ]
     },
     "metadata": {},
     "output_type": "display_data"
    },
    {
     "data": {
      "application/vnd.jupyter.widget-view+json": {
       "model_id": "78fcec562af34ed89f7a440b00a3242f",
       "version_major": 2,
       "version_minor": 0
      },
      "text/plain": [
       "Calculating Metrics:   0%|          | 0/8 [00:00<?, ?it/s]"
      ]
     },
     "metadata": {},
     "output_type": "display_data"
    },
    {
     "data": {
      "application/vnd.jupyter.widget-view+json": {
       "model_id": "cc24eb1109794fe29ebaec7cce5b13aa",
       "version_major": 2,
       "version_minor": 0
      },
      "text/plain": [
       "Calculating Metrics:   0%|          | 0/6 [00:00<?, ?it/s]"
      ]
     },
     "metadata": {},
     "output_type": "display_data"
    },
    {
     "data": {
      "application/vnd.jupyter.widget-view+json": {
       "model_id": "60332246a8c340e89177032f24f65b1d",
       "version_major": 2,
       "version_minor": 0
      },
      "text/plain": [
       "Calculating Metrics:   0%|          | 0/6 [00:00<?, ?it/s]"
      ]
     },
     "metadata": {},
     "output_type": "display_data"
    },
    {
     "data": {
      "application/vnd.jupyter.widget-view+json": {
       "model_id": "0df0d9d90c2a4b3f9b7ab06cb6e97d20",
       "version_major": 2,
       "version_minor": 0
      },
      "text/plain": [
       "Calculating Metrics:   0%|          | 0/6 [00:00<?, ?it/s]"
      ]
     },
     "metadata": {},
     "output_type": "display_data"
    },
    {
     "data": {
      "application/vnd.jupyter.widget-view+json": {
       "model_id": "1ec2f05f786b44538cba12335dfb272c",
       "version_major": 2,
       "version_minor": 0
      },
      "text/plain": [
       "Calculating Metrics:   0%|          | 0/6 [00:00<?, ?it/s]"
      ]
     },
     "metadata": {},
     "output_type": "display_data"
    },
    {
     "data": {
      "application/vnd.jupyter.widget-view+json": {
       "model_id": "2e3a73556a6347ca8767a1c5618130aa",
       "version_major": 2,
       "version_minor": 0
      },
      "text/plain": [
       "Calculating Metrics:   0%|          | 0/8 [00:00<?, ?it/s]"
      ]
     },
     "metadata": {},
     "output_type": "display_data"
    },
    {
     "data": {
      "application/vnd.jupyter.widget-view+json": {
       "model_id": "9a331b8a67d84d4fbff3510ca1ec83e8",
       "version_major": 2,
       "version_minor": 0
      },
      "text/plain": [
       "Calculating Metrics:   0%|          | 0/6 [00:00<?, ?it/s]"
      ]
     },
     "metadata": {},
     "output_type": "display_data"
    },
    {
     "data": {
      "application/vnd.jupyter.widget-view+json": {
       "model_id": "6d941a7da6bd46c38cb364df31e35741",
       "version_major": 2,
       "version_minor": 0
      },
      "text/plain": [
       "Calculating Metrics:   0%|          | 0/8 [00:00<?, ?it/s]"
      ]
     },
     "metadata": {},
     "output_type": "display_data"
    },
    {
     "data": {
      "application/vnd.jupyter.widget-view+json": {
       "model_id": "5e76993eb8144b4b823bee5ba031b465",
       "version_major": 2,
       "version_minor": 0
      },
      "text/plain": [
       "Calculating Metrics:   0%|          | 0/48 [00:00<?, ?it/s]"
      ]
     },
     "metadata": {},
     "output_type": "display_data"
    },
    {
     "name": "stdout",
     "output_type": "stream",
     "text": [
      "Validation Error on Rows [1035, 1364, 1383] of file _FILENAME_ !Columns ['KitchenQual'] failed on the following expectations : ['expect_column_values_to_not_be_null']\n",
      "[1035, 1364, 1383]\n"
     ]
    }
   ],
   "source": [
    "# path = '../data/folder_C/_file_0.csv'\n",
    "path = '../data/folder_A/file_2.csv'\n",
    "\n",
    "df = pd.read_csv(path)\n",
    "result = validate(path,df)\n",
    "log,failed_rows = log_failed_expectations(result.to_json_dict())\n",
    "print(log)\n",
    "print(failed_rows)"
   ]
  },
  {
   "cell_type": "code",
   "execution_count": 5,
   "id": "a9dfc660-454d-4cbd-9574-1293fbd0e357",
   "metadata": {},
   "outputs": [
    {
     "data": {
      "text/plain": [
       "[1331, 1120, 1129, 792, 283, 876, 1448, 921]"
      ]
     },
     "execution_count": 5,
     "metadata": {},
     "output_type": "execute_result"
    }
   ],
   "source": [
    "filtered_df = df[~df['Id'].isin(failed_rows)]\n",
    "\n",
    "rows = list(filtered_df['Id'].values)\n",
    "rows"
   ]
  },
  {
   "cell_type": "code",
   "execution_count": 7,
   "id": "222e827b-3597-46fd-950b-5ec02341cbdc",
   "metadata": {},
   "outputs": [
    {
     "data": {
      "application/vnd.jupyter.widget-view+json": {
       "model_id": "09b9f9e90daa45bd9fe5d24821cd2b29",
       "version_major": 2,
       "version_minor": 0
      },
      "text/plain": [
       "Calculating Metrics:   0%|          | 0/6 [00:00<?, ?it/s]"
      ]
     },
     "metadata": {},
     "output_type": "display_data"
    },
    {
     "data": {
      "application/vnd.jupyter.widget-view+json": {
       "model_id": "def1a77310ee4cac8155176def57c7b4",
       "version_major": 2,
       "version_minor": 0
      },
      "text/plain": [
       "Calculating Metrics:   0%|          | 0/8 [00:00<?, ?it/s]"
      ]
     },
     "metadata": {},
     "output_type": "display_data"
    },
    {
     "data": {
      "application/vnd.jupyter.widget-view+json": {
       "model_id": "a385104a03a84542ad34acea71b8a1e4",
       "version_major": 2,
       "version_minor": 0
      },
      "text/plain": [
       "Calculating Metrics:   0%|          | 0/6 [00:00<?, ?it/s]"
      ]
     },
     "metadata": {},
     "output_type": "display_data"
    },
    {
     "data": {
      "application/vnd.jupyter.widget-view+json": {
       "model_id": "a6e654728feb478ab0c8fd2bb96c45b9",
       "version_major": 2,
       "version_minor": 0
      },
      "text/plain": [
       "Calculating Metrics:   0%|          | 0/6 [00:00<?, ?it/s]"
      ]
     },
     "metadata": {},
     "output_type": "display_data"
    },
    {
     "data": {
      "application/vnd.jupyter.widget-view+json": {
       "model_id": "cb41d891c0914e7b85e83051a0559e0a",
       "version_major": 2,
       "version_minor": 0
      },
      "text/plain": [
       "Calculating Metrics:   0%|          | 0/6 [00:00<?, ?it/s]"
      ]
     },
     "metadata": {},
     "output_type": "display_data"
    },
    {
     "data": {
      "application/vnd.jupyter.widget-view+json": {
       "model_id": "e57f4abe7366490a998bd35813cd9714",
       "version_major": 2,
       "version_minor": 0
      },
      "text/plain": [
       "Calculating Metrics:   0%|          | 0/6 [00:00<?, ?it/s]"
      ]
     },
     "metadata": {},
     "output_type": "display_data"
    },
    {
     "data": {
      "application/vnd.jupyter.widget-view+json": {
       "model_id": "60dc07e6783041239a79aee0c8d70da2",
       "version_major": 2,
       "version_minor": 0
      },
      "text/plain": [
       "Calculating Metrics:   0%|          | 0/8 [00:00<?, ?it/s]"
      ]
     },
     "metadata": {},
     "output_type": "display_data"
    },
    {
     "data": {
      "application/vnd.jupyter.widget-view+json": {
       "model_id": "6289d8d2a2914d5b85b4523b5a124bc4",
       "version_major": 2,
       "version_minor": 0
      },
      "text/plain": [
       "Calculating Metrics:   0%|          | 0/6 [00:00<?, ?it/s]"
      ]
     },
     "metadata": {},
     "output_type": "display_data"
    },
    {
     "data": {
      "application/vnd.jupyter.widget-view+json": {
       "model_id": "82e834c5096841aebe33a93502424694",
       "version_major": 2,
       "version_minor": 0
      },
      "text/plain": [
       "Calculating Metrics:   0%|          | 0/43 [00:00<?, ?it/s]"
      ]
     },
     "metadata": {},
     "output_type": "display_data"
    },
    {
     "name": "stdout",
     "output_type": "stream",
     "text": [
      "column -> Foundation\n",
      "    expectation_config -> expect_column_values_to_be_in_set\n",
      "    rows with errors -> [1164, 30, 1417, 1012, 1061, 474, 571, 114, 421, 554]\n",
      "\n",
      "[1061, 421, 1417, 554, 1164, 114, 1012, 474, 571, 30]\n"
     ]
    }
   ],
   "source": [
    "path = '../data/folder_A/file_1.csv'\n",
    "context = gx.get_context()\n",
    "df = pd.read_csv(path)\n",
    "result = validate(path,df)\n",
    "log, failed_rows = log_failed_expectations(result.to_json_dict())\n",
    "print(log)\n",
    "print(failed_rows)"
   ]
  }
 ],
 "metadata": {
  "kernelspec": {
   "display_name": "Python 3 (ipykernel)",
   "language": "python",
   "name": "python3"
  },
  "language_info": {
   "codemirror_mode": {
    "name": "ipython",
    "version": 3
   },
   "file_extension": ".py",
   "mimetype": "text/x-python",
   "name": "python",
   "nbconvert_exporter": "python",
   "pygments_lexer": "ipython3",
   "version": "3.9.18"
  }
 },
 "nbformat": 4,
 "nbformat_minor": 5
}
