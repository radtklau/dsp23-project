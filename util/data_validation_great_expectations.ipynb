{
 "cells": [
  {
   "cell_type": "code",
   "execution_count": 51,
   "id": "00ea28ce-03c2-4b27-b114-6b87e65168ae",
   "metadata": {},
   "outputs": [],
   "source": [
    "import great_expectations as gx\n",
    "import pandas as pd\n",
    "from datetime import datetime\n",
    "from great_expectations.checkpoint import Checkpoint\n",
    "from great_expectations.data_context.types.base import DataContextConfig\n",
    "from datetime import datetime\n",
    "import logging\n",
    "import shutil"
   ]
  },
  {
   "cell_type": "code",
   "execution_count": 5,
   "id": "037a4cee-5836-4c06-8851-4453412d2301",
   "metadata": {},
   "outputs": [],
   "source": [
    "def create_validator(path, context):\n",
    "    validator = context.sources.pandas_default.read_csv(path)\n",
    "\n",
    "    validator.expect_column_values_to_not_be_null('TotRmsAbvGrd')\n",
    "    validator.expect_column_values_to_be_between('TotRmsAbvGrd', min_value=1, max_value=30)\n",
    "    validator.expect_column_values_to_not_be_null('WoodDeckSF')\n",
    "    validator.expect_column_values_to_not_be_null('YrSold')\n",
    "    validator.expect_column_values_to_not_be_null('1stFlrSF')\n",
    "    validator.expect_column_values_to_not_be_null('Foundation_BrkTil')\n",
    "    validator.expect_column_values_to_not_be_null('Foundation_CBlock')\n",
    "    validator.expect_column_values_to_not_be_null('Foundation_PConc')\n",
    "    validator.expect_column_values_to_not_be_null('Foundation_Slab')\n",
    "    validator.expect_column_values_to_not_be_null('Foundation_Stone')\n",
    "    validator.expect_column_values_to_not_be_null('Foundation_Wood')\n",
    "    validator.expect_column_values_to_not_be_null('KitchenQual_Ex')\n",
    "    validator.expect_column_values_to_not_be_null('KitchenQual_Fa')\n",
    "    validator.expect_column_values_to_not_be_null('KitchenQual_Gd')\n",
    "    validator.expect_column_values_to_not_be_null('KitchenQual_TA')\n",
    "    validator.save_expectation_suite(discard_failed_expectations=False)\n",
    "    return validator\n",
    "\n",
    "def validate(path, df):\n",
    "    context = gx.get_context()\n",
    "    now = datetime.now()\n",
    "\n",
    "    validator = create_validator(path, context)\n",
    "\n",
    "    checkpoint = context.add_or_update_checkpoint(name='housing_checkpoint', validator=validator)\n",
    "    result_format: dict = {\n",
    "        \"result_format\": \"COMPLETE\",\n",
    "        \"unexpected_index_column_names\": [\"Id\"],\n",
    "    }\n",
    "    checkpoint_result = checkpoint.run(result_format=result_format)\n",
    "    # context.view_validation_result(checkpoint_result)\n",
    "    return checkpoint_result"
   ]
  },
  {
   "cell_type": "code",
   "execution_count": 90,
   "id": "d8ea81fd-893b-44d9-807d-852493074745",
   "metadata": {},
   "outputs": [],
   "source": [
    "def filter_expectations_result(result_json):\n",
    "    run_results = result_json['run_results']\n",
    "    val_result_id = list(run_results)[0]\n",
    "    val_results = run_results[val_result_id]['validation_result']\n",
    "    \n",
    "    site_path = run_results[val_result_id]['actions_results']['update_data_docs']['local_site'].replace(\"%23\",\"#\")\n",
    "    now_str = datetime.now().strftime(\"%m_%d_%Y_%H_%M_%S\")\n",
    "    print(site_path[7:])\n",
    "    shutil.move(site_path[7:],\n",
    "                f'/mnt/c/dev/epita/dsp/dsp23-project/validations/{now_str}_validation_result.html')\n",
    "    \n",
    "    statistics = val_results['statistics']\n",
    "    statistics['success_percent'] = round(statistics['success_percent'], 2) \n",
    "    # print(statistics)\n",
    "    info = ''\n",
    "    failed_rows = []\n",
    "    failed_cols = []\n",
    "    failed_conf = []\n",
    "\n",
    "    for res in val_results['results']:\n",
    "        if res['success'] == False:\n",
    "            _col = res['expectation_config']['kwargs']['column']\n",
    "            _exp_conf = res['expectation_config']['expectation_type']\n",
    "            info += f'column -> {_col}\\n'\n",
    "            info += f'    expectation_config -> {_exp_conf}\\n'\n",
    "            indexes_list = res['result']['partial_unexpected_index_list']\n",
    "            failed_rows_id = [item['Id'] for item in indexes_list]\n",
    "            failed_rows = list(set(failed_rows + failed_rows_id))\n",
    "            failed_conf = list(set(failed_conf + [_exp_conf]))\n",
    "            failed_cols = list(set(failed_cols + [_col]))\n",
    "            info += f'    rows with errors -> {failed_rows_id}\\n'\n",
    "            print(info)\n",
    "            info = ''\n",
    "\n",
    "    desc = f'Validation Error on Rows {failed_rows} of file _FILENAME_ !'\n",
    "    desc += f'Columns {failed_cols} failed on the following expectations : {failed_conf}'\n",
    "    desc = desc.replace('[', '')\n",
    "    desc = desc.replace(']', '')\n",
    "    return failed_rows, desc\n"
   ]
  },
  {
   "cell_type": "code",
   "execution_count": 70,
   "id": "a3586d3e-a6fc-47b8-9a57-a36d5054532a",
   "metadata": {},
   "outputs": [],
   "source": [
    "path = '../data/folder_A/file_1.csv'\n",
    "\n",
    "df = pd.read_csv(path)\n",
    "df = df[df.columns[1:]]\n"
   ]
  },
  {
   "cell_type": "code",
   "execution_count": 71,
   "id": "44e8fcdf-1c53-44fc-ba34-9e5314a5bf5e",
   "metadata": {},
   "outputs": [
    {
     "data": {
      "application/vnd.jupyter.widget-view+json": {
       "model_id": "75e3aedba8a449c786d6050d9ecf54e1",
       "version_major": 2,
       "version_minor": 0
      },
      "text/plain": [
       "Calculating Metrics:   0%|          | 0/6 [00:00<?, ?it/s]"
      ]
     },
     "metadata": {},
     "output_type": "display_data"
    },
    {
     "data": {
      "application/vnd.jupyter.widget-view+json": {
       "model_id": "ac376420e2ac4aae9cbb6d304d950a73",
       "version_major": 2,
       "version_minor": 0
      },
      "text/plain": [
       "Calculating Metrics:   0%|          | 0/8 [00:00<?, ?it/s]"
      ]
     },
     "metadata": {},
     "output_type": "display_data"
    },
    {
     "data": {
      "application/vnd.jupyter.widget-view+json": {
       "model_id": "33f9b8e4f17047a2b485b127b4bd9387",
       "version_major": 2,
       "version_minor": 0
      },
      "text/plain": [
       "Calculating Metrics:   0%|          | 0/6 [00:00<?, ?it/s]"
      ]
     },
     "metadata": {},
     "output_type": "display_data"
    },
    {
     "data": {
      "application/vnd.jupyter.widget-view+json": {
       "model_id": "ad83bbb31ff5417a893e46e240d19085",
       "version_major": 2,
       "version_minor": 0
      },
      "text/plain": [
       "Calculating Metrics:   0%|          | 0/6 [00:00<?, ?it/s]"
      ]
     },
     "metadata": {},
     "output_type": "display_data"
    },
    {
     "data": {
      "application/vnd.jupyter.widget-view+json": {
       "model_id": "a444afd3ed214651b639440ff60c6ef0",
       "version_major": 2,
       "version_minor": 0
      },
      "text/plain": [
       "Calculating Metrics:   0%|          | 0/6 [00:00<?, ?it/s]"
      ]
     },
     "metadata": {},
     "output_type": "display_data"
    },
    {
     "data": {
      "application/vnd.jupyter.widget-view+json": {
       "model_id": "5171c91408324fe1bbe001898300ee7e",
       "version_major": 2,
       "version_minor": 0
      },
      "text/plain": [
       "Calculating Metrics:   0%|          | 0/6 [00:00<?, ?it/s]"
      ]
     },
     "metadata": {},
     "output_type": "display_data"
    },
    {
     "data": {
      "application/vnd.jupyter.widget-view+json": {
       "model_id": "dcda24d11bcb4beb8a648b1ab21bfd34",
       "version_major": 2,
       "version_minor": 0
      },
      "text/plain": [
       "Calculating Metrics:   0%|          | 0/6 [00:00<?, ?it/s]"
      ]
     },
     "metadata": {},
     "output_type": "display_data"
    },
    {
     "data": {
      "application/vnd.jupyter.widget-view+json": {
       "model_id": "3fc4ef3d9bdb41bd86c66ffb692220e0",
       "version_major": 2,
       "version_minor": 0
      },
      "text/plain": [
       "Calculating Metrics:   0%|          | 0/6 [00:00<?, ?it/s]"
      ]
     },
     "metadata": {},
     "output_type": "display_data"
    },
    {
     "data": {
      "application/vnd.jupyter.widget-view+json": {
       "model_id": "6e4beae2093742ffac649d141e9d397a",
       "version_major": 2,
       "version_minor": 0
      },
      "text/plain": [
       "Calculating Metrics:   0%|          | 0/6 [00:00<?, ?it/s]"
      ]
     },
     "metadata": {},
     "output_type": "display_data"
    },
    {
     "data": {
      "application/vnd.jupyter.widget-view+json": {
       "model_id": "8ac28860b1e84549a966302f0303e47f",
       "version_major": 2,
       "version_minor": 0
      },
      "text/plain": [
       "Calculating Metrics:   0%|          | 0/6 [00:00<?, ?it/s]"
      ]
     },
     "metadata": {},
     "output_type": "display_data"
    },
    {
     "data": {
      "application/vnd.jupyter.widget-view+json": {
       "model_id": "a7fe033be6444cd6a4d7c2c42163bdf8",
       "version_major": 2,
       "version_minor": 0
      },
      "text/plain": [
       "Calculating Metrics:   0%|          | 0/6 [00:00<?, ?it/s]"
      ]
     },
     "metadata": {},
     "output_type": "display_data"
    },
    {
     "data": {
      "application/vnd.jupyter.widget-view+json": {
       "model_id": "5e8a918dbaa2484aac9c94c2774864a3",
       "version_major": 2,
       "version_minor": 0
      },
      "text/plain": [
       "Calculating Metrics:   0%|          | 0/6 [00:00<?, ?it/s]"
      ]
     },
     "metadata": {},
     "output_type": "display_data"
    },
    {
     "data": {
      "application/vnd.jupyter.widget-view+json": {
       "model_id": "e3c88bee837846deb15479b683d68897",
       "version_major": 2,
       "version_minor": 0
      },
      "text/plain": [
       "Calculating Metrics:   0%|          | 0/6 [00:00<?, ?it/s]"
      ]
     },
     "metadata": {},
     "output_type": "display_data"
    },
    {
     "data": {
      "application/vnd.jupyter.widget-view+json": {
       "model_id": "ba6167115cb84499a5cbc8ea926a23c3",
       "version_major": 2,
       "version_minor": 0
      },
      "text/plain": [
       "Calculating Metrics:   0%|          | 0/6 [00:00<?, ?it/s]"
      ]
     },
     "metadata": {},
     "output_type": "display_data"
    },
    {
     "data": {
      "application/vnd.jupyter.widget-view+json": {
       "model_id": "948f19c099f049b8bb29638dce07f4e5",
       "version_major": 2,
       "version_minor": 0
      },
      "text/plain": [
       "Calculating Metrics:   0%|          | 0/6 [00:00<?, ?it/s]"
      ]
     },
     "metadata": {},
     "output_type": "display_data"
    },
    {
     "data": {
      "application/vnd.jupyter.widget-view+json": {
       "model_id": "7f9c01bade0b4fa39017759abbd0f692",
       "version_major": 2,
       "version_minor": 0
      },
      "text/plain": [
       "Calculating Metrics:   0%|          | 0/78 [00:00<?, ?it/s]"
      ]
     },
     "metadata": {},
     "output_type": "display_data"
    }
   ],
   "source": [
    "result = validate(path,df)"
   ]
  },
  {
   "cell_type": "code",
   "execution_count": 72,
   "id": "587a8f6d-9e1c-4527-9da9-c36af9562b5f",
   "metadata": {},
   "outputs": [
    {
     "name": "stdout",
     "output_type": "stream",
     "text": [
      "/tmp/tmpmc0kkr0y/validations/default/__none__/20240110T175620.098142Z/default_pandas_datasource-#ephemeral_pandas_asset.html\n",
      "column -> TotRmsAbvGrd\n",
      "    expectation_config -> expect_column_values_to_be_between\n",
      "    rows with errors -> [1001, 693]\n",
      "\n",
      "column -> KitchenQual_Fa\n",
      "    expectation_config -> expect_column_values_to_not_be_null\n",
      "    rows with errors -> [477, 578]\n",
      "\n",
      "column -> KitchenQual_TA\n",
      "    expectation_config -> expect_column_values_to_not_be_null\n",
      "    rows with errors -> [952]\n",
      "\n",
      "[578, 1001, 693, 952, 477]\n",
      "Validation Error on Rows 578, 1001, 693, 952, 477 of file _FILENAME_ !Columns 'TotRmsAbvGrd', 'KitchenQual_Fa', 'KitchenQual_TA' failed on the following expectations : 'expect_column_values_to_be_between', 'expect_column_values_to_not_be_null'\n"
     ]
    }
   ],
   "source": [
    "log,failed_rows = filter_expectations_result(result.to_json_dict())\n",
    "print(log)\n",
    "print(failed_rows)"
   ]
  },
  {
   "cell_type": "code",
   "execution_count": null,
   "id": "a9dfc660-454d-4cbd-9574-1293fbd0e357",
   "metadata": {},
   "outputs": [],
   "source": [
    "filtered_df = df[~df['Id'].isin(failed_rows)]\n",
    "\n",
    "rows = list(filtered_df['Id'].values)\n",
    "rows"
   ]
  },
  {
   "cell_type": "code",
   "execution_count": null,
   "id": "222e827b-3597-46fd-950b-5ec02341cbdc",
   "metadata": {},
   "outputs": [],
   "source": [
    "path = '../data/folder_A/file_error_example.csv'\n",
    "context = gx.get_context()\n",
    "df = pd.read_csv(path)\n",
    "result = validate(path,df)\n",
    "log, failed_rows = log_failed_expectations(result.to_json_dict())\n",
    "print(log)\n",
    "print(failed_rows)"
   ]
  }
 ],
 "metadata": {
  "kernelspec": {
   "display_name": "Python 3 (ipykernel)",
   "language": "python",
   "name": "python3"
  },
  "language_info": {
   "codemirror_mode": {
    "name": "ipython",
    "version": 3
   },
   "file_extension": ".py",
   "mimetype": "text/x-python",
   "name": "python",
   "nbconvert_exporter": "python",
   "pygments_lexer": "ipython3",
   "version": "3.9.18"
  }
 },
 "nbformat": 4,
 "nbformat_minor": 5
}
