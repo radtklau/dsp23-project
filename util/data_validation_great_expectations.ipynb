{
 "cells": [
  {
   "cell_type": "code",
   "execution_count": 3,
   "id": "00ea28ce-03c2-4b27-b114-6b87e65168ae",
   "metadata": {},
   "outputs": [],
   "source": [
    "import great_expectations as gx\n",
    "import pandas as pd\n",
    "from datetime import datetime\n",
    "from great_expectations.checkpoint import Checkpoint\n",
    "from great_expectations.data_context.types.base import DataContextConfig"
   ]
  },
  {
   "cell_type": "code",
   "execution_count": 4,
   "id": "037a4cee-5836-4c06-8851-4453412d2301",
   "metadata": {},
   "outputs": [],
   "source": [
    "def validate(path, df):\n",
    "    context = gx.get_context()\n",
    "    now = datetime.now()\n",
    "\n",
    "    datasource  = context.sources.add_pandas(\"house_datasource\")\n",
    "    data_asset = datasource.add_dataframe_asset(name=\"house_asset\")\n",
    "    batch_request = data_asset.build_batch_request(dataframe=df)\n",
    "\n",
    "    context.add_or_update_expectation_suite(expectation_suite_name='expectation_house')\n",
    "    validator = context.get_validator(\n",
    "        batch_request=data_asset.build_batch_request(dataframe=df),\n",
    "        expectation_suite_name='expectation_house',\n",
    "    )\n",
    "    \n",
    "    validator.expect_column_values_to_not_be_null('TotRmsAbvGrd')\n",
    "    validator.expect_column_values_to_be_between('TotRmsAbvGrd', min_value=1, max_value=30)\n",
    "    validator.expect_column_values_to_not_be_null('WoodDeckSF')\n",
    "    validator.expect_column_values_to_not_be_null('YrSold')\n",
    "    validator.expect_column_values_to_not_be_null('1stFlrSF')\n",
    "    validator.expect_column_values_to_not_be_null('Foundation')\n",
    "    validator.expect_column_values_to_be_in_set(column='Foundation', value_set = [\n",
    "        'BrkTil',\n",
    "        'CBlock',\n",
    "        'PConc',\n",
    "        'Slab',\n",
    "        'Stone',\n",
    "        'Wood',\n",
    "    ])\n",
    "    validator.expect_column_values_to_not_be_null('KitchenQual')\n",
    "    validator.save_expectation_suite(discard_failed_expectations=False)\n",
    "\n",
    "    checkpoint = Checkpoint(\n",
    "        name=\"house_checkpoint\",\n",
    "        run_name_template=\"housing_checkpoint\",\n",
    "        data_context=context,\n",
    "        batch_request=batch_request,\n",
    "        expectation_suite_name='expectation_house',\n",
    "        action_list=[\n",
    "            {\n",
    "                \"name\": \"store_validation_result\",\n",
    "                \"action\": {\"class_name\": \"StoreValidationResultAction\"},\n",
    "            },\n",
    "                {\"name\": \"update_data_docs\", \"action\": {\"class_name\": \"UpdateDataDocsAction\"}},\n",
    "            ],\n",
    "        )\n",
    "\n",
    "    context.add_or_update_checkpoint(checkpoint=checkpoint)\n",
    "    result_format: dict = {\n",
    "        \"result_format\": \"COMPLETE\",\n",
    "        \"unexpected_index_column_names\": [\"Id\"],\n",
    "    }\n",
    "    return checkpoint.run(result_format=result_format)"
   ]
  },
  {
   "cell_type": "code",
   "execution_count": 12,
   "id": "d8ea81fd-893b-44d9-807d-852493074745",
   "metadata": {},
   "outputs": [],
   "source": [
    "def log_failed_expectations(result_json):\n",
    "    run_results = result_json['run_results']\n",
    "    val_result_id = list(run_results)[0]\n",
    "    val_results = run_results[val_result_id]['validation_result']\n",
    "\n",
    "    info = \"\" \n",
    "    for res in val_results['results']:\n",
    "        if res['success'] == False:\n",
    "            info += f\"column -> {res['expectation_config']['kwargs']['column'] }\\n\"\n",
    "            info += f\"    expectation_config -> {res['expectation_config']['expectation_type']}\\n\"\n",
    "            indexes_list = res['result']['partial_unexpected_index_list']\n",
    "            failed_rows_id = [item['Id'] for item in indexes_list]\n",
    "            info += f\"    rows with errors -> {failed_rows_id}\\n\"\n",
    "\n",
    "    return info "
   ]
  },
  {
   "cell_type": "code",
   "execution_count": 14,
   "id": "44e8fcdf-1c53-44fc-ba34-9e5314a5bf5e",
   "metadata": {},
   "outputs": [
    {
     "data": {
      "application/vnd.jupyter.widget-view+json": {
       "model_id": "e34ace7c17484242ac9ac7d6b141845a",
       "version_major": 2,
       "version_minor": 0
      },
      "text/plain": [
       "Calculating Metrics:   0%|          | 0/6 [00:00<?, ?it/s]"
      ]
     },
     "metadata": {},
     "output_type": "display_data"
    },
    {
     "data": {
      "application/vnd.jupyter.widget-view+json": {
       "model_id": "e8007d7bd1e045ca84b7cf7162551401",
       "version_major": 2,
       "version_minor": 0
      },
      "text/plain": [
       "Calculating Metrics:   0%|          | 0/8 [00:00<?, ?it/s]"
      ]
     },
     "metadata": {},
     "output_type": "display_data"
    },
    {
     "data": {
      "application/vnd.jupyter.widget-view+json": {
       "model_id": "5d54e658e3a44112a253c265446c42ad",
       "version_major": 2,
       "version_minor": 0
      },
      "text/plain": [
       "Calculating Metrics:   0%|          | 0/6 [00:00<?, ?it/s]"
      ]
     },
     "metadata": {},
     "output_type": "display_data"
    },
    {
     "data": {
      "application/vnd.jupyter.widget-view+json": {
       "model_id": "8cc79198d29d45dabf27ce6fccd0a957",
       "version_major": 2,
       "version_minor": 0
      },
      "text/plain": [
       "Calculating Metrics:   0%|          | 0/6 [00:00<?, ?it/s]"
      ]
     },
     "metadata": {},
     "output_type": "display_data"
    },
    {
     "data": {
      "application/vnd.jupyter.widget-view+json": {
       "model_id": "54cf1c38e1aa43bd9164a5917c64a1b1",
       "version_major": 2,
       "version_minor": 0
      },
      "text/plain": [
       "Calculating Metrics:   0%|          | 0/6 [00:00<?, ?it/s]"
      ]
     },
     "metadata": {},
     "output_type": "display_data"
    },
    {
     "data": {
      "application/vnd.jupyter.widget-view+json": {
       "model_id": "a571a3147bfd48318520332f5a98d6cd",
       "version_major": 2,
       "version_minor": 0
      },
      "text/plain": [
       "Calculating Metrics:   0%|          | 0/6 [00:00<?, ?it/s]"
      ]
     },
     "metadata": {},
     "output_type": "display_data"
    },
    {
     "data": {
      "application/vnd.jupyter.widget-view+json": {
       "model_id": "496b41be943f486e9638ea27b19228db",
       "version_major": 2,
       "version_minor": 0
      },
      "text/plain": [
       "Calculating Metrics:   0%|          | 0/8 [00:00<?, ?it/s]"
      ]
     },
     "metadata": {},
     "output_type": "display_data"
    },
    {
     "data": {
      "application/vnd.jupyter.widget-view+json": {
       "model_id": "9e7ff7d9f6da4d2a87045eac5c7eaef7",
       "version_major": 2,
       "version_minor": 0
      },
      "text/plain": [
       "Calculating Metrics:   0%|          | 0/6 [00:00<?, ?it/s]"
      ]
     },
     "metadata": {},
     "output_type": "display_data"
    },
    {
     "data": {
      "application/vnd.jupyter.widget-view+json": {
       "model_id": "6dbbb840ac9640809aa5e367e30d8345",
       "version_major": 2,
       "version_minor": 0
      },
      "text/plain": [
       "Calculating Metrics:   0%|          | 0/43 [00:00<?, ?it/s]"
      ]
     },
     "metadata": {},
     "output_type": "display_data"
    },
    {
     "name": "stdout",
     "output_type": "stream",
     "text": [
      "column -> TotRmsAbvGrd\n",
      "    expectation_config -> expect_column_values_to_not_be_null\n",
      "    rows with errors -> [1186, 386]\n",
      "\n"
     ]
    }
   ],
   "source": [
    "# path = '../data/folder_C/_file_0.csv'\n",
    "path = '../data/folder_A/file_0.csv'\n",
    "\n",
    "df = pd.read_csv(path)\n",
    "df['TotRmsAbvGrd'][0] = None\n",
    "df['TotRmsAbvGrd'][1] = None\n",
    "\n",
    "result = validate(path,df)\n",
    "log = log_failed_expectations(result.to_json_dict())\n",
    "print(log)"
   ]
  },
  {
   "cell_type": "code",
   "execution_count": 13,
   "id": "222e827b-3597-46fd-950b-5ec02341cbdc",
   "metadata": {},
   "outputs": [
    {
     "data": {
      "application/vnd.jupyter.widget-view+json": {
       "model_id": "e422cb6462f744e9881707603f35d9ab",
       "version_major": 2,
       "version_minor": 0
      },
      "text/plain": [
       "Calculating Metrics:   0%|          | 0/6 [00:00<?, ?it/s]"
      ]
     },
     "metadata": {},
     "output_type": "display_data"
    },
    {
     "data": {
      "application/vnd.jupyter.widget-view+json": {
       "model_id": "a5aff12d2e12430f95dec3f00605fa5d",
       "version_major": 2,
       "version_minor": 0
      },
      "text/plain": [
       "Calculating Metrics:   0%|          | 0/8 [00:00<?, ?it/s]"
      ]
     },
     "metadata": {},
     "output_type": "display_data"
    },
    {
     "data": {
      "application/vnd.jupyter.widget-view+json": {
       "model_id": "17f352a5c6504badb48a62ae2da0dfd8",
       "version_major": 2,
       "version_minor": 0
      },
      "text/plain": [
       "Calculating Metrics:   0%|          | 0/6 [00:00<?, ?it/s]"
      ]
     },
     "metadata": {},
     "output_type": "display_data"
    },
    {
     "data": {
      "application/vnd.jupyter.widget-view+json": {
       "model_id": "7251459d1d6a42d4a74ec4f5dcaae7f7",
       "version_major": 2,
       "version_minor": 0
      },
      "text/plain": [
       "Calculating Metrics:   0%|          | 0/6 [00:00<?, ?it/s]"
      ]
     },
     "metadata": {},
     "output_type": "display_data"
    },
    {
     "data": {
      "application/vnd.jupyter.widget-view+json": {
       "model_id": "7a51654071584b3e8498d4eb65f69a8f",
       "version_major": 2,
       "version_minor": 0
      },
      "text/plain": [
       "Calculating Metrics:   0%|          | 0/6 [00:00<?, ?it/s]"
      ]
     },
     "metadata": {},
     "output_type": "display_data"
    },
    {
     "data": {
      "application/vnd.jupyter.widget-view+json": {
       "model_id": "a1cfbe2f86e24992aa38b8f9b251c9d1",
       "version_major": 2,
       "version_minor": 0
      },
      "text/plain": [
       "Calculating Metrics:   0%|          | 0/6 [00:00<?, ?it/s]"
      ]
     },
     "metadata": {},
     "output_type": "display_data"
    },
    {
     "data": {
      "application/vnd.jupyter.widget-view+json": {
       "model_id": "b1e639330d544f05a956aa2c45ac6233",
       "version_major": 2,
       "version_minor": 0
      },
      "text/plain": [
       "Calculating Metrics:   0%|          | 0/8 [00:00<?, ?it/s]"
      ]
     },
     "metadata": {},
     "output_type": "display_data"
    },
    {
     "data": {
      "application/vnd.jupyter.widget-view+json": {
       "model_id": "fd51571e50a145ca92abced78c5e944a",
       "version_major": 2,
       "version_minor": 0
      },
      "text/plain": [
       "Calculating Metrics:   0%|          | 0/6 [00:00<?, ?it/s]"
      ]
     },
     "metadata": {},
     "output_type": "display_data"
    },
    {
     "data": {
      "application/vnd.jupyter.widget-view+json": {
       "model_id": "9dbb30d30c50400a8c868565fb66a9e1",
       "version_major": 2,
       "version_minor": 0
      },
      "text/plain": [
       "Calculating Metrics:   0%|          | 0/43 [00:00<?, ?it/s]"
      ]
     },
     "metadata": {},
     "output_type": "display_data"
    },
    {
     "name": "stdout",
     "output_type": "stream",
     "text": [
      "column -> Foundation\n",
      "    expectation_config -> expect_column_values_to_be_in_set\n",
      "    rows with errors -> [1186, 386, 1315, 400, 828, 243, 1240, 340, 1076]\n",
      "column -> KitchenQual\n",
      "    expectation_config -> expect_column_values_to_not_be_null\n",
      "    rows with errors -> [1186, 386]\n",
      "\n"
     ]
    }
   ],
   "source": [
    "path = '../data/folder_C/_file_0.csv'\n",
    "context = gx.get_context()\n",
    "df = pd.read_csv(path)\n",
    "result = validate(path,df)\n",
    "log = log_failed_expectations(result.to_json_dict())\n",
    "print(log)"
   ]
  },
  {
   "cell_type": "code",
   "execution_count": null,
   "id": "35e05a41-142a-41d8-8555-f2de34ea4710",
   "metadata": {},
   "outputs": [],
   "source": [
    "    "
   ]
  }
 ],
 "metadata": {
  "kernelspec": {
   "display_name": "Python 3 (ipykernel)",
   "language": "python",
   "name": "python3"
  },
  "language_info": {
   "codemirror_mode": {
    "name": "ipython",
    "version": 3
   },
   "file_extension": ".py",
   "mimetype": "text/x-python",
   "name": "python",
   "nbconvert_exporter": "python",
   "pygments_lexer": "ipython3",
   "version": "3.9.18"
  }
 },
 "nbformat": 4,
 "nbformat_minor": 5
}
