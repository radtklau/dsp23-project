{
 "cells": [
  {
   "cell_type": "code",
   "execution_count": 17,
   "id": "00ea28ce-03c2-4b27-b114-6b87e65168ae",
   "metadata": {},
   "outputs": [],
   "source": [
    "import great_expectations as gx\n",
    "import pandas as pd\n",
    "from datetime import datetime\n",
    "from great_expectations.checkpoint import Checkpoint\n",
    "from great_expectations.data_context.types.base import DataContextConfig\n",
    "import logging"
   ]
  },
  {
   "cell_type": "code",
   "execution_count": 65,
   "id": "037a4cee-5836-4c06-8851-4453412d2301",
   "metadata": {},
   "outputs": [],
   "source": [
    "def create_validator(path, context):\n",
    "    validator = context.sources.pandas_default.read_csv(path)\n",
    "\n",
    "    validator.expect_column_values_to_not_be_null('TotRmsAbvGrd')\n",
    "    validator.expect_column_values_to_be_between('TotRmsAbvGrd', min_value=1, max_value=30)\n",
    "    validator.expect_column_values_to_not_be_null('WoodDeckSF')\n",
    "    validator.expect_column_values_to_not_be_null('YrSold')\n",
    "    validator.expect_column_values_to_not_be_null('1stFlrSF')\n",
    "    validator.expect_column_values_to_not_be_null('Foundation_BrkTil')\n",
    "    validator.expect_column_values_to_not_be_null('Foundation_CBlock')\n",
    "    validator.expect_column_values_to_not_be_null('Foundation_PConc')\n",
    "    validator.expect_column_values_to_not_be_null('Foundation_Slab')\n",
    "    validator.expect_column_values_to_not_be_null('Foundation_Stone')\n",
    "    validator.expect_column_values_to_not_be_null('Foundation_Wood')\n",
    "    validator.expect_column_values_to_not_be_null('KitchenQual_Ex')\n",
    "    validator.expect_column_values_to_not_be_null('KitchenQual_Fa')\n",
    "    validator.expect_column_values_to_not_be_null('KitchenQual_Gd')\n",
    "    validator.expect_column_values_to_not_be_null('KitchenQual_TA')\n",
    "    validator.save_expectation_suite(discard_failed_expectations=False)\n",
    "    return validator\n",
    "\n",
    "def validate(path, df):\n",
    "    context = gx.get_context()\n",
    "    now = datetime.now()\n",
    "\n",
    "    # datasource  = context.sources.add_pandas(\"house_datasource\")\n",
    "    # data_asset = datasource.add_dataframe_asset(name=\"house_asset\")\n",
    "    # batch_request = data_asset.build_batch_request(dataframe=df)\n",
    "\n",
    "    # context.add_or_update_expectation_suite(expectation_suite_name='expectation_house')\n",
    "    # validator = context.get_validator(\n",
    "    #     batch_request=data_asset.build_batch_request(dataframe=df),\n",
    "    #     expectation_suite_name='expectation_house',\n",
    "    # )\n",
    "    validator = create_validator(path, context)\n",
    "\n",
    "    # checkpoint = Checkpoint(\n",
    "    #     name=\"house_checkpoint\",\n",
    "    #     run_name_template=\"housing_checkpoint\",\n",
    "    #     data_context=context,\n",
    "    #     batch_request=batch_request,\n",
    "    #     expectation_suite_name='expectation_house',\n",
    "    #     action_list=[\n",
    "    #         {\n",
    "    #             \"name\": \"store_validation_result\",\n",
    "    #             \"action\": {\"class_name\": \"StoreValidationResultAction\"},\n",
    "    #         },\n",
    "    #             {\"name\": \"update_data_docs\", \"action\": {\"class_name\": \"UpdateDataDocsAction\"}},\n",
    "    #         ],\n",
    "    #     )\n",
    "\n",
    "    checkpoint = context.add_or_update_checkpoint(name='housing_checkpoint', validator=validator)\n",
    "    result_format: dict = {\n",
    "        \"result_format\": \"COMPLETE\",\n",
    "        \"unexpected_index_column_names\": [\"Id\"],\n",
    "    }\n",
    "    return checkpoint.run(result_format=result_format)"
   ]
  },
  {
   "cell_type": "code",
   "execution_count": 66,
   "id": "d8ea81fd-893b-44d9-807d-852493074745",
   "metadata": {},
   "outputs": [],
   "source": [
    "def filter_expectations_result(result_json):\n",
    "    # logging.info(result_json)\n",
    "    run_results = result_json['run_results']\n",
    "    val_result_id = list(run_results)[0]\n",
    "    val_results = run_results[val_result_id]['validation_result']\n",
    "\n",
    "    print(val_results['results'])\n",
    "    # info = ''\n",
    "    failed_rows = []\n",
    "    failed_cols = []\n",
    "    failed_conf = []\n",
    "\n",
    "    for res in val_results['results']:\n",
    "        if res['success'] == False:\n",
    "            _col = res['expectation_config']['kwargs']['column']\n",
    "            _exp_conf = res['expectation_config']['expectation_type']\n",
    "            # info += f'column -> {_col}\\n'\n",
    "            # info += f'    expectation_config -> {_exp_conf}\\n'\n",
    "            indexes_list = res['result']['partial_unexpected_index_list']\n",
    "            failed_rows_id = [item['Id'] for item in indexes_list]\n",
    "            failed_rows = list(set(failed_rows + failed_rows_id))\n",
    "            failed_conf = list(set(failed_conf + [_exp_conf]))\n",
    "            failed_cols = list(set(failed_cols + [_col]))\n",
    "            # info += f'    rows with errors -> {failed_rows_id}\\n'\n",
    "\n",
    "    desc = f'Validation Error on Rows {failed_rows} of file _FILENAME_ !'\n",
    "    desc += f'Columns {failed_cols} failed on the following expectations : {failed_conf}'\n",
    "    desc = desc.replace('[', '')\n",
    "    desc = desc.replace(']', '')\n",
    "    # logging.info(info)\n",
    "    return failed_rows, desc\n"
   ]
  },
  {
   "cell_type": "code",
   "execution_count": 72,
   "id": "a3586d3e-a6fc-47b8-9a57-a36d5054532a",
   "metadata": {},
   "outputs": [
    {
     "data": {
      "text/html": [
       "<div>\n",
       "<style scoped>\n",
       "    .dataframe tbody tr th:only-of-type {\n",
       "        vertical-align: middle;\n",
       "    }\n",
       "\n",
       "    .dataframe tbody tr th {\n",
       "        vertical-align: top;\n",
       "    }\n",
       "\n",
       "    .dataframe thead th {\n",
       "        text-align: right;\n",
       "    }\n",
       "</style>\n",
       "<table border=\"1\" class=\"dataframe\">\n",
       "  <thead>\n",
       "    <tr style=\"text-align: right;\">\n",
       "      <th></th>\n",
       "      <th>TotRmsAbvGrd</th>\n",
       "      <th>WoodDeckSF</th>\n",
       "      <th>YrSold</th>\n",
       "      <th>1stFlrSF</th>\n",
       "      <th>Foundation_BrkTil</th>\n",
       "      <th>Foundation_CBlock</th>\n",
       "      <th>Foundation_PConc</th>\n",
       "      <th>Foundation_Slab</th>\n",
       "      <th>Foundation_Stone</th>\n",
       "      <th>Foundation_Wood</th>\n",
       "      <th>KitchenQual_Ex</th>\n",
       "      <th>KitchenQual_Fa</th>\n",
       "      <th>KitchenQual_Gd</th>\n",
       "      <th>KitchenQual_TA</th>\n",
       "    </tr>\n",
       "  </thead>\n",
       "  <tbody>\n",
       "    <tr>\n",
       "      <th>0</th>\n",
       "      <td>8</td>\n",
       "      <td>100</td>\n",
       "      <td>2007</td>\n",
       "      <td>847</td>\n",
       "      <td>0</td>\n",
       "      <td>0</td>\n",
       "      <td>1</td>\n",
       "      <td>0</td>\n",
       "      <td>0</td>\n",
       "      <td>0</td>\n",
       "      <td>0</td>\n",
       "      <td>0</td>\n",
       "      <td>1</td>\n",
       "      <td>0.0</td>\n",
       "    </tr>\n",
       "    <tr>\n",
       "      <th>1</th>\n",
       "      <td>10</td>\n",
       "      <td>382</td>\n",
       "      <td>2007</td>\n",
       "      <td>2444</td>\n",
       "      <td>0</td>\n",
       "      <td>0</td>\n",
       "      <td>1</td>\n",
       "      <td>0</td>\n",
       "      <td>0</td>\n",
       "      <td>0</td>\n",
       "      <td>1</td>\n",
       "      <td>0</td>\n",
       "      <td>0</td>\n",
       "      <td>0.0</td>\n",
       "    </tr>\n",
       "    <tr>\n",
       "      <th>2</th>\n",
       "      <td>6</td>\n",
       "      <td>0</td>\n",
       "      <td>2009</td>\n",
       "      <td>1152</td>\n",
       "      <td>0</td>\n",
       "      <td>1</td>\n",
       "      <td>0</td>\n",
       "      <td>0</td>\n",
       "      <td>0</td>\n",
       "      <td>0</td>\n",
       "      <td>0</td>\n",
       "      <td>0</td>\n",
       "      <td>1</td>\n",
       "      <td>0.0</td>\n",
       "    </tr>\n",
       "    <tr>\n",
       "      <th>3</th>\n",
       "      <td>7</td>\n",
       "      <td>0</td>\n",
       "      <td>2008</td>\n",
       "      <td>1234</td>\n",
       "      <td>0</td>\n",
       "      <td>0</td>\n",
       "      <td>1</td>\n",
       "      <td>0</td>\n",
       "      <td>0</td>\n",
       "      <td>0</td>\n",
       "      <td>0</td>\n",
       "      <td>0</td>\n",
       "      <td>1</td>\n",
       "      <td>0.0</td>\n",
       "    </tr>\n",
       "    <tr>\n",
       "      <th>4</th>\n",
       "      <td>6</td>\n",
       "      <td>0</td>\n",
       "      <td>2009</td>\n",
       "      <td>600</td>\n",
       "      <td>1</td>\n",
       "      <td>0</td>\n",
       "      <td>0</td>\n",
       "      <td>0</td>\n",
       "      <td>0</td>\n",
       "      <td>0</td>\n",
       "      <td>0</td>\n",
       "      <td>0</td>\n",
       "      <td>0</td>\n",
       "      <td>1.0</td>\n",
       "    </tr>\n",
       "    <tr>\n",
       "      <th>5</th>\n",
       "      <td>5</td>\n",
       "      <td>0</td>\n",
       "      <td>2007</td>\n",
       "      <td>969</td>\n",
       "      <td>0</td>\n",
       "      <td>1</td>\n",
       "      <td>0</td>\n",
       "      <td>0</td>\n",
       "      <td>0</td>\n",
       "      <td>0</td>\n",
       "      <td>0</td>\n",
       "      <td>0</td>\n",
       "      <td>0</td>\n",
       "      <td>1.0</td>\n",
       "    </tr>\n",
       "    <tr>\n",
       "      <th>6</th>\n",
       "      <td>6</td>\n",
       "      <td>135</td>\n",
       "      <td>2009</td>\n",
       "      <td>1314</td>\n",
       "      <td>0</td>\n",
       "      <td>0</td>\n",
       "      <td>1</td>\n",
       "      <td>0</td>\n",
       "      <td>0</td>\n",
       "      <td>0</td>\n",
       "      <td>0</td>\n",
       "      <td>0</td>\n",
       "      <td>1</td>\n",
       "      <td>0.0</td>\n",
       "    </tr>\n",
       "    <tr>\n",
       "      <th>7</th>\n",
       "      <td>6</td>\n",
       "      <td>168</td>\n",
       "      <td>2009</td>\n",
       "      <td>1217</td>\n",
       "      <td>0</td>\n",
       "      <td>0</td>\n",
       "      <td>1</td>\n",
       "      <td>0</td>\n",
       "      <td>0</td>\n",
       "      <td>0</td>\n",
       "      <td>0</td>\n",
       "      <td>0</td>\n",
       "      <td>1</td>\n",
       "      <td>NaN</td>\n",
       "    </tr>\n",
       "    <tr>\n",
       "      <th>8</th>\n",
       "      <td>5</td>\n",
       "      <td>186</td>\n",
       "      <td>2009</td>\n",
       "      <td>845</td>\n",
       "      <td>0</td>\n",
       "      <td>0</td>\n",
       "      <td>0</td>\n",
       "      <td>1</td>\n",
       "      <td>0</td>\n",
       "      <td>0</td>\n",
       "      <td>0</td>\n",
       "      <td>0</td>\n",
       "      <td>0</td>\n",
       "      <td>NaN</td>\n",
       "    </tr>\n",
       "    <tr>\n",
       "      <th>9</th>\n",
       "      <td>5</td>\n",
       "      <td>81</td>\n",
       "      <td>2008</td>\n",
       "      <td>1363</td>\n",
       "      <td>0</td>\n",
       "      <td>1</td>\n",
       "      <td>0</td>\n",
       "      <td>0</td>\n",
       "      <td>0</td>\n",
       "      <td>0</td>\n",
       "      <td>0</td>\n",
       "      <td>0</td>\n",
       "      <td>0</td>\n",
       "      <td>NaN</td>\n",
       "    </tr>\n",
       "  </tbody>\n",
       "</table>\n",
       "</div>"
      ],
      "text/plain": [
       "   TotRmsAbvGrd  WoodDeckSF  YrSold  1stFlrSF  Foundation_BrkTil  \\\n",
       "0             8         100    2007       847                  0   \n",
       "1            10         382    2007      2444                  0   \n",
       "2             6           0    2009      1152                  0   \n",
       "3             7           0    2008      1234                  0   \n",
       "4             6           0    2009       600                  1   \n",
       "5             5           0    2007       969                  0   \n",
       "6             6         135    2009      1314                  0   \n",
       "7             6         168    2009      1217                  0   \n",
       "8             5         186    2009       845                  0   \n",
       "9             5          81    2008      1363                  0   \n",
       "\n",
       "   Foundation_CBlock  Foundation_PConc  Foundation_Slab  Foundation_Stone  \\\n",
       "0                  0                 1                0                 0   \n",
       "1                  0                 1                0                 0   \n",
       "2                  1                 0                0                 0   \n",
       "3                  0                 1                0                 0   \n",
       "4                  0                 0                0                 0   \n",
       "5                  1                 0                0                 0   \n",
       "6                  0                 1                0                 0   \n",
       "7                  0                 1                0                 0   \n",
       "8                  0                 0                1                 0   \n",
       "9                  1                 0                0                 0   \n",
       "\n",
       "   Foundation_Wood  KitchenQual_Ex  KitchenQual_Fa  KitchenQual_Gd  \\\n",
       "0                0               0               0               1   \n",
       "1                0               1               0               0   \n",
       "2                0               0               0               1   \n",
       "3                0               0               0               1   \n",
       "4                0               0               0               0   \n",
       "5                0               0               0               0   \n",
       "6                0               0               0               1   \n",
       "7                0               0               0               1   \n",
       "8                0               0               0               0   \n",
       "9                0               0               0               0   \n",
       "\n",
       "   KitchenQual_TA  \n",
       "0             0.0  \n",
       "1             0.0  \n",
       "2             0.0  \n",
       "3             0.0  \n",
       "4             1.0  \n",
       "5             1.0  \n",
       "6             0.0  \n",
       "7             NaN  \n",
       "8             NaN  \n",
       "9             NaN  "
      ]
     },
     "execution_count": 72,
     "metadata": {},
     "output_type": "execute_result"
    }
   ],
   "source": [
    "# path = '../data/folder_C/_file_0.csv'\n",
    "path = '../data/folder_A/file_0.csv'\n",
    "\n",
    "df = pd.read_csv(path)\n",
    "df = df[df.columns[1:]]\n",
    "df\n",
    "# df.columns.values[0] = \"Id\"\n",
    "# df[\"Id\"] = df.index\n",
    "# df = df.reset_index(drop=True)\n",
    "# df.to_csv('../data/tesadsadsa.csv')"
   ]
  },
  {
   "cell_type": "code",
   "execution_count": 68,
   "id": "44e8fcdf-1c53-44fc-ba34-9e5314a5bf5e",
   "metadata": {},
   "outputs": [
    {
     "name": "stderr",
     "output_type": "stream",
     "text": [
      "INFO:great_expectations.data_context.types.base:Created temporary directory '/tmp/tmpebh08o_9' for ephemeral docs site\n",
      "WARNING:py.warnings:/home/thiago/miniconda3/envs/dsp/lib/python3.9/site-packages/great_expectations/expectations/expectation.py:1491: UserWarning: `result_format` configured at the Validator-level will not be persisted. Please add the configuration to your Checkpoint config or checkpoint_run() method instead.\n",
      "  warnings.warn(\n",
      "\n"
     ]
    },
    {
     "data": {
      "application/vnd.jupyter.widget-view+json": {
       "model_id": "7b1f80c5e6e34599901dc84dd2fe8dfe",
       "version_major": 2,
       "version_minor": 0
      },
      "text/plain": [
       "Calculating Metrics:   0%|          | 0/6 [00:00<?, ?it/s]"
      ]
     },
     "metadata": {},
     "output_type": "display_data"
    },
    {
     "name": "stderr",
     "output_type": "stream",
     "text": [
      "WARNING:py.warnings:/home/thiago/miniconda3/envs/dsp/lib/python3.9/site-packages/great_expectations/expectations/expectation.py:1491: UserWarning: `result_format` configured at the Validator-level will not be persisted. Please add the configuration to your Checkpoint config or checkpoint_run() method instead.\n",
      "  warnings.warn(\n",
      "\n"
     ]
    },
    {
     "data": {
      "application/vnd.jupyter.widget-view+json": {
       "model_id": "b4cfd9fc303d40a6acd35b72dc7bda96",
       "version_major": 2,
       "version_minor": 0
      },
      "text/plain": [
       "Calculating Metrics:   0%|          | 0/8 [00:00<?, ?it/s]"
      ]
     },
     "metadata": {},
     "output_type": "display_data"
    },
    {
     "name": "stderr",
     "output_type": "stream",
     "text": [
      "WARNING:py.warnings:/home/thiago/miniconda3/envs/dsp/lib/python3.9/site-packages/great_expectations/expectations/expectation.py:1491: UserWarning: `result_format` configured at the Validator-level will not be persisted. Please add the configuration to your Checkpoint config or checkpoint_run() method instead.\n",
      "  warnings.warn(\n",
      "\n"
     ]
    },
    {
     "data": {
      "application/vnd.jupyter.widget-view+json": {
       "model_id": "5fd579082b7a4ce49ea6ff13e6771f94",
       "version_major": 2,
       "version_minor": 0
      },
      "text/plain": [
       "Calculating Metrics:   0%|          | 0/6 [00:00<?, ?it/s]"
      ]
     },
     "metadata": {},
     "output_type": "display_data"
    },
    {
     "name": "stderr",
     "output_type": "stream",
     "text": [
      "WARNING:py.warnings:/home/thiago/miniconda3/envs/dsp/lib/python3.9/site-packages/great_expectations/expectations/expectation.py:1491: UserWarning: `result_format` configured at the Validator-level will not be persisted. Please add the configuration to your Checkpoint config or checkpoint_run() method instead.\n",
      "  warnings.warn(\n",
      "\n"
     ]
    },
    {
     "data": {
      "application/vnd.jupyter.widget-view+json": {
       "model_id": "c529f8b2b0bd4c44a6773f8b22bf36f2",
       "version_major": 2,
       "version_minor": 0
      },
      "text/plain": [
       "Calculating Metrics:   0%|          | 0/6 [00:00<?, ?it/s]"
      ]
     },
     "metadata": {},
     "output_type": "display_data"
    },
    {
     "name": "stderr",
     "output_type": "stream",
     "text": [
      "WARNING:py.warnings:/home/thiago/miniconda3/envs/dsp/lib/python3.9/site-packages/great_expectations/expectations/expectation.py:1491: UserWarning: `result_format` configured at the Validator-level will not be persisted. Please add the configuration to your Checkpoint config or checkpoint_run() method instead.\n",
      "  warnings.warn(\n",
      "\n"
     ]
    },
    {
     "data": {
      "application/vnd.jupyter.widget-view+json": {
       "model_id": "4c18a4a9c5b94237a075c33207b7c7fc",
       "version_major": 2,
       "version_minor": 0
      },
      "text/plain": [
       "Calculating Metrics:   0%|          | 0/6 [00:00<?, ?it/s]"
      ]
     },
     "metadata": {},
     "output_type": "display_data"
    },
    {
     "name": "stderr",
     "output_type": "stream",
     "text": [
      "WARNING:py.warnings:/home/thiago/miniconda3/envs/dsp/lib/python3.9/site-packages/great_expectations/expectations/expectation.py:1491: UserWarning: `result_format` configured at the Validator-level will not be persisted. Please add the configuration to your Checkpoint config or checkpoint_run() method instead.\n",
      "  warnings.warn(\n",
      "\n"
     ]
    },
    {
     "data": {
      "application/vnd.jupyter.widget-view+json": {
       "model_id": "8bf44da34eea499c8c5417131338c000",
       "version_major": 2,
       "version_minor": 0
      },
      "text/plain": [
       "Calculating Metrics:   0%|          | 0/6 [00:00<?, ?it/s]"
      ]
     },
     "metadata": {},
     "output_type": "display_data"
    },
    {
     "name": "stderr",
     "output_type": "stream",
     "text": [
      "WARNING:py.warnings:/home/thiago/miniconda3/envs/dsp/lib/python3.9/site-packages/great_expectations/expectations/expectation.py:1491: UserWarning: `result_format` configured at the Validator-level will not be persisted. Please add the configuration to your Checkpoint config or checkpoint_run() method instead.\n",
      "  warnings.warn(\n",
      "\n"
     ]
    },
    {
     "data": {
      "application/vnd.jupyter.widget-view+json": {
       "model_id": "bde53dd5247948f2864e165b6ec9a9d0",
       "version_major": 2,
       "version_minor": 0
      },
      "text/plain": [
       "Calculating Metrics:   0%|          | 0/6 [00:00<?, ?it/s]"
      ]
     },
     "metadata": {},
     "output_type": "display_data"
    },
    {
     "name": "stderr",
     "output_type": "stream",
     "text": [
      "WARNING:py.warnings:/home/thiago/miniconda3/envs/dsp/lib/python3.9/site-packages/great_expectations/expectations/expectation.py:1491: UserWarning: `result_format` configured at the Validator-level will not be persisted. Please add the configuration to your Checkpoint config or checkpoint_run() method instead.\n",
      "  warnings.warn(\n",
      "\n"
     ]
    },
    {
     "data": {
      "application/vnd.jupyter.widget-view+json": {
       "model_id": "8d1a873da5e847c2becf3c02ce920c13",
       "version_major": 2,
       "version_minor": 0
      },
      "text/plain": [
       "Calculating Metrics:   0%|          | 0/6 [00:00<?, ?it/s]"
      ]
     },
     "metadata": {},
     "output_type": "display_data"
    },
    {
     "name": "stderr",
     "output_type": "stream",
     "text": [
      "WARNING:py.warnings:/home/thiago/miniconda3/envs/dsp/lib/python3.9/site-packages/great_expectations/expectations/expectation.py:1491: UserWarning: `result_format` configured at the Validator-level will not be persisted. Please add the configuration to your Checkpoint config or checkpoint_run() method instead.\n",
      "  warnings.warn(\n",
      "\n"
     ]
    },
    {
     "data": {
      "application/vnd.jupyter.widget-view+json": {
       "model_id": "2b115a4bb5ff494ca82e16eaa8fcf2ad",
       "version_major": 2,
       "version_minor": 0
      },
      "text/plain": [
       "Calculating Metrics:   0%|          | 0/6 [00:00<?, ?it/s]"
      ]
     },
     "metadata": {},
     "output_type": "display_data"
    },
    {
     "name": "stderr",
     "output_type": "stream",
     "text": [
      "WARNING:py.warnings:/home/thiago/miniconda3/envs/dsp/lib/python3.9/site-packages/great_expectations/expectations/expectation.py:1491: UserWarning: `result_format` configured at the Validator-level will not be persisted. Please add the configuration to your Checkpoint config or checkpoint_run() method instead.\n",
      "  warnings.warn(\n",
      "\n"
     ]
    },
    {
     "data": {
      "application/vnd.jupyter.widget-view+json": {
       "model_id": "cf23b8729d444ed0b0b22e4346ca4258",
       "version_major": 2,
       "version_minor": 0
      },
      "text/plain": [
       "Calculating Metrics:   0%|          | 0/6 [00:00<?, ?it/s]"
      ]
     },
     "metadata": {},
     "output_type": "display_data"
    },
    {
     "name": "stderr",
     "output_type": "stream",
     "text": [
      "WARNING:py.warnings:/home/thiago/miniconda3/envs/dsp/lib/python3.9/site-packages/great_expectations/expectations/expectation.py:1491: UserWarning: `result_format` configured at the Validator-level will not be persisted. Please add the configuration to your Checkpoint config or checkpoint_run() method instead.\n",
      "  warnings.warn(\n",
      "\n"
     ]
    },
    {
     "data": {
      "application/vnd.jupyter.widget-view+json": {
       "model_id": "eec35fbd85574e1bac7ee25f194fa4a4",
       "version_major": 2,
       "version_minor": 0
      },
      "text/plain": [
       "Calculating Metrics:   0%|          | 0/6 [00:00<?, ?it/s]"
      ]
     },
     "metadata": {},
     "output_type": "display_data"
    },
    {
     "name": "stderr",
     "output_type": "stream",
     "text": [
      "WARNING:py.warnings:/home/thiago/miniconda3/envs/dsp/lib/python3.9/site-packages/great_expectations/expectations/expectation.py:1491: UserWarning: `result_format` configured at the Validator-level will not be persisted. Please add the configuration to your Checkpoint config or checkpoint_run() method instead.\n",
      "  warnings.warn(\n",
      "\n"
     ]
    },
    {
     "data": {
      "application/vnd.jupyter.widget-view+json": {
       "model_id": "27aaf7bd60a0402aaeb1d6e01bab2d82",
       "version_major": 2,
       "version_minor": 0
      },
      "text/plain": [
       "Calculating Metrics:   0%|          | 0/6 [00:00<?, ?it/s]"
      ]
     },
     "metadata": {},
     "output_type": "display_data"
    },
    {
     "name": "stderr",
     "output_type": "stream",
     "text": [
      "WARNING:py.warnings:/home/thiago/miniconda3/envs/dsp/lib/python3.9/site-packages/great_expectations/expectations/expectation.py:1491: UserWarning: `result_format` configured at the Validator-level will not be persisted. Please add the configuration to your Checkpoint config or checkpoint_run() method instead.\n",
      "  warnings.warn(\n",
      "\n"
     ]
    },
    {
     "data": {
      "application/vnd.jupyter.widget-view+json": {
       "model_id": "03af150d5a10473e9472bc453fc10901",
       "version_major": 2,
       "version_minor": 0
      },
      "text/plain": [
       "Calculating Metrics:   0%|          | 0/6 [00:00<?, ?it/s]"
      ]
     },
     "metadata": {},
     "output_type": "display_data"
    },
    {
     "name": "stderr",
     "output_type": "stream",
     "text": [
      "WARNING:py.warnings:/home/thiago/miniconda3/envs/dsp/lib/python3.9/site-packages/great_expectations/expectations/expectation.py:1491: UserWarning: `result_format` configured at the Validator-level will not be persisted. Please add the configuration to your Checkpoint config or checkpoint_run() method instead.\n",
      "  warnings.warn(\n",
      "\n"
     ]
    },
    {
     "data": {
      "application/vnd.jupyter.widget-view+json": {
       "model_id": "51219f271212424ea16e6810217d0d1e",
       "version_major": 2,
       "version_minor": 0
      },
      "text/plain": [
       "Calculating Metrics:   0%|          | 0/6 [00:00<?, ?it/s]"
      ]
     },
     "metadata": {},
     "output_type": "display_data"
    },
    {
     "name": "stderr",
     "output_type": "stream",
     "text": [
      "WARNING:py.warnings:/home/thiago/miniconda3/envs/dsp/lib/python3.9/site-packages/great_expectations/expectations/expectation.py:1491: UserWarning: `result_format` configured at the Validator-level will not be persisted. Please add the configuration to your Checkpoint config or checkpoint_run() method instead.\n",
      "  warnings.warn(\n",
      "\n"
     ]
    },
    {
     "data": {
      "application/vnd.jupyter.widget-view+json": {
       "model_id": "4fb639fd87a24fdc80b1b089f540f402",
       "version_major": 2,
       "version_minor": 0
      },
      "text/plain": [
       "Calculating Metrics:   0%|          | 0/6 [00:00<?, ?it/s]"
      ]
     },
     "metadata": {},
     "output_type": "display_data"
    },
    {
     "data": {
      "application/vnd.jupyter.widget-view+json": {
       "model_id": "97e27ce507004d1b86aeafd6961ad981",
       "version_major": 2,
       "version_minor": 0
      },
      "text/plain": [
       "Calculating Metrics:   0%|          | 0/78 [00:00<?, ?it/s]"
      ]
     },
     "metadata": {},
     "output_type": "display_data"
    }
   ],
   "source": [
    "result = validate(path,df)"
   ]
  },
  {
   "cell_type": "code",
   "execution_count": 69,
   "id": "587a8f6d-9e1c-4527-9da9-c36af9562b5f",
   "metadata": {},
   "outputs": [
    {
     "name": "stdout",
     "output_type": "stream",
     "text": [
      "[{'success': True, 'expectation_config': {'expectation_type': 'expect_column_values_to_not_be_null', 'kwargs': {'column': 'TotRmsAbvGrd', 'batch_id': 'default_pandas_datasource-#ephemeral_pandas_asset'}, 'meta': {}}, 'result': {'element_count': 10, 'unexpected_count': 0, 'unexpected_percent': 0.0, 'partial_unexpected_list': [], 'partial_unexpected_counts': [], 'partial_unexpected_index_list': [], 'unexpected_list': [], 'unexpected_index_list': [], 'unexpected_index_query': 'df.filter(items=[], axis=0)'}, 'meta': {}, 'exception_info': {'raised_exception': False, 'exception_traceback': None, 'exception_message': None}}, {'success': True, 'expectation_config': {'expectation_type': 'expect_column_values_to_be_between', 'kwargs': {'column': 'TotRmsAbvGrd', 'max_value': 30, 'min_value': 1, 'batch_id': 'default_pandas_datasource-#ephemeral_pandas_asset'}, 'meta': {}}, 'result': {'element_count': 10, 'unexpected_count': 0, 'unexpected_percent': 0.0, 'partial_unexpected_list': [], 'unexpected_index_column_names': ['Id'], 'missing_count': 0, 'missing_percent': 0.0, 'unexpected_percent_total': 0.0, 'unexpected_percent_nonmissing': 0.0, 'partial_unexpected_counts': [], 'partial_unexpected_index_list': [], 'unexpected_list': [], 'unexpected_index_list': [], 'unexpected_index_query': 'df.filter(items=[], axis=0)'}, 'meta': {}, 'exception_info': {'raised_exception': False, 'exception_traceback': None, 'exception_message': None}}, {'success': True, 'expectation_config': {'expectation_type': 'expect_column_values_to_not_be_null', 'kwargs': {'column': 'WoodDeckSF', 'batch_id': 'default_pandas_datasource-#ephemeral_pandas_asset'}, 'meta': {}}, 'result': {'element_count': 10, 'unexpected_count': 0, 'unexpected_percent': 0.0, 'partial_unexpected_list': [], 'partial_unexpected_counts': [], 'partial_unexpected_index_list': [], 'unexpected_list': [], 'unexpected_index_list': [], 'unexpected_index_query': 'df.filter(items=[], axis=0)'}, 'meta': {}, 'exception_info': {'raised_exception': False, 'exception_traceback': None, 'exception_message': None}}, {'success': True, 'expectation_config': {'expectation_type': 'expect_column_values_to_not_be_null', 'kwargs': {'column': 'YrSold', 'batch_id': 'default_pandas_datasource-#ephemeral_pandas_asset'}, 'meta': {}}, 'result': {'element_count': 10, 'unexpected_count': 0, 'unexpected_percent': 0.0, 'partial_unexpected_list': [], 'partial_unexpected_counts': [], 'partial_unexpected_index_list': [], 'unexpected_list': [], 'unexpected_index_list': [], 'unexpected_index_query': 'df.filter(items=[], axis=0)'}, 'meta': {}, 'exception_info': {'raised_exception': False, 'exception_traceback': None, 'exception_message': None}}, {'success': True, 'expectation_config': {'expectation_type': 'expect_column_values_to_not_be_null', 'kwargs': {'column': '1stFlrSF', 'batch_id': 'default_pandas_datasource-#ephemeral_pandas_asset'}, 'meta': {}}, 'result': {'element_count': 10, 'unexpected_count': 0, 'unexpected_percent': 0.0, 'partial_unexpected_list': [], 'partial_unexpected_counts': [], 'partial_unexpected_index_list': [], 'unexpected_list': [], 'unexpected_index_list': [], 'unexpected_index_query': 'df.filter(items=[], axis=0)'}, 'meta': {}, 'exception_info': {'raised_exception': False, 'exception_traceback': None, 'exception_message': None}}, {'success': True, 'expectation_config': {'expectation_type': 'expect_column_values_to_not_be_null', 'kwargs': {'column': 'Foundation_BrkTil', 'batch_id': 'default_pandas_datasource-#ephemeral_pandas_asset'}, 'meta': {}}, 'result': {'element_count': 10, 'unexpected_count': 0, 'unexpected_percent': 0.0, 'partial_unexpected_list': [], 'partial_unexpected_counts': [], 'partial_unexpected_index_list': [], 'unexpected_list': [], 'unexpected_index_list': [], 'unexpected_index_query': 'df.filter(items=[], axis=0)'}, 'meta': {}, 'exception_info': {'raised_exception': False, 'exception_traceback': None, 'exception_message': None}}, {'success': True, 'expectation_config': {'expectation_type': 'expect_column_values_to_not_be_null', 'kwargs': {'column': 'Foundation_CBlock', 'batch_id': 'default_pandas_datasource-#ephemeral_pandas_asset'}, 'meta': {}}, 'result': {'element_count': 10, 'unexpected_count': 0, 'unexpected_percent': 0.0, 'partial_unexpected_list': [], 'partial_unexpected_counts': [], 'partial_unexpected_index_list': [], 'unexpected_list': [], 'unexpected_index_list': [], 'unexpected_index_query': 'df.filter(items=[], axis=0)'}, 'meta': {}, 'exception_info': {'raised_exception': False, 'exception_traceback': None, 'exception_message': None}}, {'success': True, 'expectation_config': {'expectation_type': 'expect_column_values_to_not_be_null', 'kwargs': {'column': 'Foundation_PConc', 'batch_id': 'default_pandas_datasource-#ephemeral_pandas_asset'}, 'meta': {}}, 'result': {'element_count': 10, 'unexpected_count': 0, 'unexpected_percent': 0.0, 'partial_unexpected_list': [], 'partial_unexpected_counts': [], 'partial_unexpected_index_list': [], 'unexpected_list': [], 'unexpected_index_list': [], 'unexpected_index_query': 'df.filter(items=[], axis=0)'}, 'meta': {}, 'exception_info': {'raised_exception': False, 'exception_traceback': None, 'exception_message': None}}, {'success': True, 'expectation_config': {'expectation_type': 'expect_column_values_to_not_be_null', 'kwargs': {'column': 'Foundation_Slab', 'batch_id': 'default_pandas_datasource-#ephemeral_pandas_asset'}, 'meta': {}}, 'result': {'element_count': 10, 'unexpected_count': 0, 'unexpected_percent': 0.0, 'partial_unexpected_list': [], 'partial_unexpected_counts': [], 'partial_unexpected_index_list': [], 'unexpected_list': [], 'unexpected_index_list': [], 'unexpected_index_query': 'df.filter(items=[], axis=0)'}, 'meta': {}, 'exception_info': {'raised_exception': False, 'exception_traceback': None, 'exception_message': None}}, {'success': True, 'expectation_config': {'expectation_type': 'expect_column_values_to_not_be_null', 'kwargs': {'column': 'Foundation_Stone', 'batch_id': 'default_pandas_datasource-#ephemeral_pandas_asset'}, 'meta': {}}, 'result': {'element_count': 10, 'unexpected_count': 0, 'unexpected_percent': 0.0, 'partial_unexpected_list': [], 'partial_unexpected_counts': [], 'partial_unexpected_index_list': [], 'unexpected_list': [], 'unexpected_index_list': [], 'unexpected_index_query': 'df.filter(items=[], axis=0)'}, 'meta': {}, 'exception_info': {'raised_exception': False, 'exception_traceback': None, 'exception_message': None}}, {'success': True, 'expectation_config': {'expectation_type': 'expect_column_values_to_not_be_null', 'kwargs': {'column': 'Foundation_Wood', 'batch_id': 'default_pandas_datasource-#ephemeral_pandas_asset'}, 'meta': {}}, 'result': {'element_count': 10, 'unexpected_count': 0, 'unexpected_percent': 0.0, 'partial_unexpected_list': [], 'partial_unexpected_counts': [], 'partial_unexpected_index_list': [], 'unexpected_list': [], 'unexpected_index_list': [], 'unexpected_index_query': 'df.filter(items=[], axis=0)'}, 'meta': {}, 'exception_info': {'raised_exception': False, 'exception_traceback': None, 'exception_message': None}}, {'success': True, 'expectation_config': {'expectation_type': 'expect_column_values_to_not_be_null', 'kwargs': {'column': 'KitchenQual_Ex', 'batch_id': 'default_pandas_datasource-#ephemeral_pandas_asset'}, 'meta': {}}, 'result': {'element_count': 10, 'unexpected_count': 0, 'unexpected_percent': 0.0, 'partial_unexpected_list': [], 'partial_unexpected_counts': [], 'partial_unexpected_index_list': [], 'unexpected_list': [], 'unexpected_index_list': [], 'unexpected_index_query': 'df.filter(items=[], axis=0)'}, 'meta': {}, 'exception_info': {'raised_exception': False, 'exception_traceback': None, 'exception_message': None}}, {'success': True, 'expectation_config': {'expectation_type': 'expect_column_values_to_not_be_null', 'kwargs': {'column': 'KitchenQual_Fa', 'batch_id': 'default_pandas_datasource-#ephemeral_pandas_asset'}, 'meta': {}}, 'result': {'element_count': 10, 'unexpected_count': 0, 'unexpected_percent': 0.0, 'partial_unexpected_list': [], 'partial_unexpected_counts': [], 'partial_unexpected_index_list': [], 'unexpected_list': [], 'unexpected_index_list': [], 'unexpected_index_query': 'df.filter(items=[], axis=0)'}, 'meta': {}, 'exception_info': {'raised_exception': False, 'exception_traceback': None, 'exception_message': None}}, {'success': True, 'expectation_config': {'expectation_type': 'expect_column_values_to_not_be_null', 'kwargs': {'column': 'KitchenQual_Gd', 'batch_id': 'default_pandas_datasource-#ephemeral_pandas_asset'}, 'meta': {}}, 'result': {'element_count': 10, 'unexpected_count': 0, 'unexpected_percent': 0.0, 'partial_unexpected_list': [], 'partial_unexpected_counts': [], 'partial_unexpected_index_list': [], 'unexpected_list': [], 'unexpected_index_list': [], 'unexpected_index_query': 'df.filter(items=[], axis=0)'}, 'meta': {}, 'exception_info': {'raised_exception': False, 'exception_traceback': None, 'exception_message': None}}, {'success': False, 'expectation_config': {'expectation_type': 'expect_column_values_to_not_be_null', 'kwargs': {'column': 'KitchenQual_TA', 'batch_id': 'default_pandas_datasource-#ephemeral_pandas_asset'}, 'meta': {}}, 'result': {'element_count': 10, 'unexpected_count': 3, 'unexpected_percent': 30.0, 'partial_unexpected_list': [None, None, None], 'partial_unexpected_counts': [{'value': None, 'count': 1}, {'value': None, 'count': 1}, {'value': None, 'count': 1}], 'partial_unexpected_index_list': [{'KitchenQual_TA': None, 'Id': 187}, {'KitchenQual_TA': None, 'Id': 1036}, {'KitchenQual_TA': None, 'Id': 272}], 'unexpected_list': [None, None, None], 'unexpected_index_list': [{'KitchenQual_TA': None, 'Id': 187}, {'KitchenQual_TA': None, 'Id': 1036}, {'KitchenQual_TA': None, 'Id': 272}], 'unexpected_index_query': 'df.filter(items=[7, 8, 9], axis=0)'}, 'meta': {}, 'exception_info': {'raised_exception': False, 'exception_traceback': None, 'exception_message': None}}]\n",
      "[272, 187, 1036]\n",
      "Validation Error on Rows 272, 187, 1036 of file _FILENAME_ !Columns 'KitchenQual_TA' failed on the following expectations : 'expect_column_values_to_not_be_null'\n"
     ]
    }
   ],
   "source": [
    "log,failed_rows = filter_expectations_result(result.to_json_dict())\n",
    "print(log)\n",
    "print(failed_rows)"
   ]
  },
  {
   "cell_type": "code",
   "execution_count": 5,
   "id": "a9dfc660-454d-4cbd-9574-1293fbd0e357",
   "metadata": {},
   "outputs": [
    {
     "data": {
      "text/plain": [
       "[425, 411, 454, 828, 368, 1266, 1412]"
      ]
     },
     "execution_count": 5,
     "metadata": {},
     "output_type": "execute_result"
    }
   ],
   "source": [
    "filtered_df = df[~df['Id'].isin(failed_rows)]\n",
    "\n",
    "rows = list(filtered_df['Id'].values)\n",
    "rows"
   ]
  },
  {
   "cell_type": "code",
   "execution_count": 12,
   "id": "222e827b-3597-46fd-950b-5ec02341cbdc",
   "metadata": {},
   "outputs": [
    {
     "data": {
      "application/vnd.jupyter.widget-view+json": {
       "model_id": "13777110a454479892f2c4ae81a560af",
       "version_major": 2,
       "version_minor": 0
      },
      "text/plain": [
       "Calculating Metrics:   0%|          | 0/6 [00:00<?, ?it/s]"
      ]
     },
     "metadata": {},
     "output_type": "display_data"
    },
    {
     "data": {
      "application/vnd.jupyter.widget-view+json": {
       "model_id": "9e25f09aa3a94b9596ada82c3a76aafe",
       "version_major": 2,
       "version_minor": 0
      },
      "text/plain": [
       "Calculating Metrics:   0%|          | 0/8 [00:00<?, ?it/s]"
      ]
     },
     "metadata": {},
     "output_type": "display_data"
    },
    {
     "data": {
      "application/vnd.jupyter.widget-view+json": {
       "model_id": "5c5cb3caa1be4e51a486ba9e30755891",
       "version_major": 2,
       "version_minor": 0
      },
      "text/plain": [
       "Calculating Metrics:   0%|          | 0/6 [00:00<?, ?it/s]"
      ]
     },
     "metadata": {},
     "output_type": "display_data"
    },
    {
     "data": {
      "application/vnd.jupyter.widget-view+json": {
       "model_id": "08b327c28e62442d9795cc865af69d5d",
       "version_major": 2,
       "version_minor": 0
      },
      "text/plain": [
       "Calculating Metrics:   0%|          | 0/6 [00:00<?, ?it/s]"
      ]
     },
     "metadata": {},
     "output_type": "display_data"
    },
    {
     "data": {
      "application/vnd.jupyter.widget-view+json": {
       "model_id": "23f208728c974877ac33f6cd845feed6",
       "version_major": 2,
       "version_minor": 0
      },
      "text/plain": [
       "Calculating Metrics:   0%|          | 0/6 [00:00<?, ?it/s]"
      ]
     },
     "metadata": {},
     "output_type": "display_data"
    },
    {
     "data": {
      "application/vnd.jupyter.widget-view+json": {
       "model_id": "774ab2ba4b6246378e3b221067ff65c5",
       "version_major": 2,
       "version_minor": 0
      },
      "text/plain": [
       "Calculating Metrics:   0%|          | 0/6 [00:00<?, ?it/s]"
      ]
     },
     "metadata": {},
     "output_type": "display_data"
    },
    {
     "data": {
      "application/vnd.jupyter.widget-view+json": {
       "model_id": "f879404a2e43478c82c912ed6d1d995b",
       "version_major": 2,
       "version_minor": 0
      },
      "text/plain": [
       "Calculating Metrics:   0%|          | 0/8 [00:00<?, ?it/s]"
      ]
     },
     "metadata": {},
     "output_type": "display_data"
    },
    {
     "data": {
      "application/vnd.jupyter.widget-view+json": {
       "model_id": "e38e880978d94de4ad6edcabb36dd08f",
       "version_major": 2,
       "version_minor": 0
      },
      "text/plain": [
       "Calculating Metrics:   0%|          | 0/6 [00:00<?, ?it/s]"
      ]
     },
     "metadata": {},
     "output_type": "display_data"
    },
    {
     "data": {
      "application/vnd.jupyter.widget-view+json": {
       "model_id": "d41c9f0e87114b4e8ae6092bce4b7763",
       "version_major": 2,
       "version_minor": 0
      },
      "text/plain": [
       "Calculating Metrics:   0%|          | 0/8 [00:00<?, ?it/s]"
      ]
     },
     "metadata": {},
     "output_type": "display_data"
    },
    {
     "data": {
      "application/vnd.jupyter.widget-view+json": {
       "model_id": "89b2644297cf46a3aa6052f80318c1d1",
       "version_major": 2,
       "version_minor": 0
      },
      "text/plain": [
       "Calculating Metrics:   0%|          | 0/48 [00:00<?, ?it/s]"
      ]
     },
     "metadata": {},
     "output_type": "display_data"
    },
    {
     "name": "stdout",
     "output_type": "stream",
     "text": [
      "Validation Error on Rows [1323, 556, 411] of file _FILENAME_ !Columns ['Foundation'] failed on the following expectations : ['expect_column_values_to_be_in_set', 'expect_column_values_to_not_be_null']\n",
      "[1323, 556, 411]\n"
     ]
    }
   ],
   "source": [
    "path = '../data/folder_A/file_error_example.csv'\n",
    "context = gx.get_context()\n",
    "df = pd.read_csv(path)\n",
    "result = validate(path,df)\n",
    "log, failed_rows = log_failed_expectations(result.to_json_dict())\n",
    "print(log)\n",
    "print(failed_rows)"
   ]
  },
  {
   "cell_type": "code",
   "execution_count": null,
   "id": "dddbf911-51a2-4883-9ea6-46b4d5cfa449",
   "metadata": {},
   "outputs": [],
   "source": []
  }
 ],
 "metadata": {
  "kernelspec": {
   "display_name": "Python 3 (ipykernel)",
   "language": "python",
   "name": "python3"
  },
  "language_info": {
   "codemirror_mode": {
    "name": "ipython",
    "version": 3
   },
   "file_extension": ".py",
   "mimetype": "text/x-python",
   "name": "python",
   "nbconvert_exporter": "python",
   "pygments_lexer": "ipython3",
   "version": "3.9.18"
  }
 },
 "nbformat": 4,
 "nbformat_minor": 5
}
