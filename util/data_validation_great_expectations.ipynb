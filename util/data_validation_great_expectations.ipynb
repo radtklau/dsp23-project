{
 "cells": [
  {
   "cell_type": "code",
   "execution_count": 69,
   "id": "00ea28ce-03c2-4b27-b114-6b87e65168ae",
   "metadata": {},
   "outputs": [],
   "source": [
    "import great_expectations as gx\n",
    "import pandas as pd\n",
    "from datetime import datetime\n",
    "from great_expectations.checkpoint import Checkpoint\n",
    "from great_expectations.data_context.types.base import DataContextConfig"
   ]
  },
  {
   "cell_type": "code",
   "execution_count": 80,
   "id": "037a4cee-5836-4c06-8851-4453412d2301",
   "metadata": {},
   "outputs": [],
   "source": [
    "def validate(path):\n",
    "    df = pd.read_csv(path)\n",
    "    now = datetime.now()\n",
    "\n",
    "    datasource  = context.sources.add_pandas(\"house_datasource\")\n",
    "    data_asset = datasource.add_dataframe_asset(name=\"house_asset\")\n",
    "    batch_request = data_asset.build_batch_request(dataframe=df)\n",
    "\n",
    "    context.add_or_update_expectation_suite(expectation_suite_name='expectation_house')\n",
    "    validator = context.get_validator(\n",
    "        batch_request=data_asset.build_batch_request(dataframe=df),\n",
    "        expectation_suite_name='expectation_house',\n",
    "    )\n",
    "    \n",
    "    validator.expect_column_values_to_not_be_null('TotRmsAbvGrd')\n",
    "    validator.expect_column_values_to_be_between('TotRmsAbvGrd', min_value=1, max_value=30)\n",
    "    validator.expect_column_values_to_not_be_null('WoodDeckSF')\n",
    "    validator.expect_column_values_to_not_be_null('YrSold')\n",
    "    validator.expect_column_values_to_not_be_null('1stFlrSF')\n",
    "    validator.expect_column_values_to_not_be_null('Foundation')\n",
    "    validator.expect_column_values_to_be_in_set(column='Foundation', value_set = [\n",
    "        'BrkTil',\n",
    "        'CBlock',\n",
    "        'PConc',\n",
    "        'Slab',\n",
    "        'Stone',\n",
    "        'Wood',\n",
    "    ])\n",
    "    validator.expect_column_values_to_not_be_null('KitchenQual')\n",
    "    validator.save_expectation_suite(discard_failed_expectations=False)\n",
    "\n",
    "    checkpoint = Checkpoint(\n",
    "        name=\"house_checkpoint\",\n",
    "        run_name_template=\"housing_checkpoint\",\n",
    "        data_context=context,\n",
    "        batch_request=batch_request,\n",
    "        expectation_suite_name='expectation_house',\n",
    "        action_list=[\n",
    "            {\n",
    "                \"name\": \"store_validation_result\",\n",
    "                \"action\": {\"class_name\": \"StoreValidationResultAction\"},\n",
    "            },\n",
    "                {\"name\": \"update_data_docs\", \"action\": {\"class_name\": \"UpdateDataDocsAction\"}},\n",
    "            ],\n",
    "        )\n",
    "\n",
    "    context.add_or_update_checkpoint(checkpoint=checkpoint)\n",
    "    result_format: dict = {\n",
    "        \"result_format\": \"COMPLETE\",\n",
    "        \"unexpected_index_column_names\": [\"Id\"],\n",
    "    }\n",
    "    return checkpoint.run(result_format=result_format)"
   ]
  },
  {
   "cell_type": "code",
   "execution_count": 191,
   "id": "d8ea81fd-893b-44d9-807d-852493074745",
   "metadata": {},
   "outputs": [],
   "source": [
    "def print_failed_expectations(result_json):\n",
    "    run_results = result_json['run_results']\n",
    "    val_result_id = list(run_results)[0]\n",
    "    val_results = run_results[val_result_id]['validation_result']\n",
    "\n",
    "    for res in val_results['results']:\n",
    "        if res['success'] == False:\n",
    "            print(f\"column -> {res['expectation_config']['kwargs']['column'] }\")\n",
    "            print(f\"    expectation_config -> {res['expectation_config']['expectation_type']}\")\n",
    "            indexes_list = res['result']['partial_unexpected_index_list']\n",
    "            failed_rows_id = [item['Id'] for item in indexes_list]\n",
    "            print(f\"rows with errors -> {failed_rows_id}\")\n"
   ]
  },
  {
   "cell_type": "code",
   "execution_count": 192,
   "id": "44e8fcdf-1c53-44fc-ba34-9e5314a5bf5e",
   "metadata": {},
   "outputs": [
    {
     "data": {
      "application/vnd.jupyter.widget-view+json": {
       "model_id": "f78744e0ad3c42fc9a93e029bf6fc213",
       "version_major": 2,
       "version_minor": 0
      },
      "text/plain": [
       "Calculating Metrics:   0%|          | 0/6 [00:00<?, ?it/s]"
      ]
     },
     "metadata": {},
     "output_type": "display_data"
    },
    {
     "data": {
      "application/vnd.jupyter.widget-view+json": {
       "model_id": "d6f0afe454154bd397a8257f96165270",
       "version_major": 2,
       "version_minor": 0
      },
      "text/plain": [
       "Calculating Metrics:   0%|          | 0/8 [00:00<?, ?it/s]"
      ]
     },
     "metadata": {},
     "output_type": "display_data"
    },
    {
     "data": {
      "application/vnd.jupyter.widget-view+json": {
       "model_id": "2e49c24601be47749d88d845434d1b04",
       "version_major": 2,
       "version_minor": 0
      },
      "text/plain": [
       "Calculating Metrics:   0%|          | 0/6 [00:00<?, ?it/s]"
      ]
     },
     "metadata": {},
     "output_type": "display_data"
    },
    {
     "data": {
      "application/vnd.jupyter.widget-view+json": {
       "model_id": "08b4e584b1ea4d359c5caafa06f99e8e",
       "version_major": 2,
       "version_minor": 0
      },
      "text/plain": [
       "Calculating Metrics:   0%|          | 0/6 [00:00<?, ?it/s]"
      ]
     },
     "metadata": {},
     "output_type": "display_data"
    },
    {
     "data": {
      "application/vnd.jupyter.widget-view+json": {
       "model_id": "4cf33056a30747278b524ca981302e83",
       "version_major": 2,
       "version_minor": 0
      },
      "text/plain": [
       "Calculating Metrics:   0%|          | 0/6 [00:00<?, ?it/s]"
      ]
     },
     "metadata": {},
     "output_type": "display_data"
    },
    {
     "data": {
      "application/vnd.jupyter.widget-view+json": {
       "model_id": "d9340cf3e7914afea966e2e4b14ff1aa",
       "version_major": 2,
       "version_minor": 0
      },
      "text/plain": [
       "Calculating Metrics:   0%|          | 0/6 [00:00<?, ?it/s]"
      ]
     },
     "metadata": {},
     "output_type": "display_data"
    },
    {
     "data": {
      "application/vnd.jupyter.widget-view+json": {
       "model_id": "6b196bcf8371425f9d6224f02e5da98e",
       "version_major": 2,
       "version_minor": 0
      },
      "text/plain": [
       "Calculating Metrics:   0%|          | 0/8 [00:00<?, ?it/s]"
      ]
     },
     "metadata": {},
     "output_type": "display_data"
    },
    {
     "data": {
      "application/vnd.jupyter.widget-view+json": {
       "model_id": "8f606d6c1e574a6c82356ddefefa803d",
       "version_major": 2,
       "version_minor": 0
      },
      "text/plain": [
       "Calculating Metrics:   0%|          | 0/6 [00:00<?, ?it/s]"
      ]
     },
     "metadata": {},
     "output_type": "display_data"
    },
    {
     "data": {
      "application/vnd.jupyter.widget-view+json": {
       "model_id": "9be64cb0d7c24d5488b04d8845561312",
       "version_major": 2,
       "version_minor": 0
      },
      "text/plain": [
       "Calculating Metrics:   0%|          | 0/43 [00:00<?, ?it/s]"
      ]
     },
     "metadata": {},
     "output_type": "display_data"
    },
    {
     "name": "stdout",
     "output_type": "stream",
     "text": [
      "column -> Foundation\n",
      "    expectation_config -> expect_column_values_to_be_in_set\n",
      "rows with errors -> [1186, 386, 1315, 400, 828, 243, 1240, 340, 1076]\n",
      "column -> KitchenQual\n",
      "    expectation_config -> expect_column_values_to_not_be_null\n",
      "rows with errors -> [1186, 386]\n"
     ]
    }
   ],
   "source": [
    "path = '../data/folder_C/_file_0.csv'\n",
    "context = gx.get_context()\n",
    "result = validate(path)\n",
    "print_failed_expectations(result.to_json_dict())\n",
    "# print(result.to_json_dict())"
   ]
  },
  {
   "cell_type": "code",
   "execution_count": null,
   "id": "222e827b-3597-46fd-950b-5ec02341cbdc",
   "metadata": {},
   "outputs": [],
   "source": []
  }
 ],
 "metadata": {
  "kernelspec": {
   "display_name": "Python 3 (ipykernel)",
   "language": "python",
   "name": "python3"
  },
  "language_info": {
   "codemirror_mode": {
    "name": "ipython",
    "version": 3
   },
   "file_extension": ".py",
   "mimetype": "text/x-python",
   "name": "python",
   "nbconvert_exporter": "python",
   "pygments_lexer": "ipython3",
   "version": "3.9.18"
  }
 },
 "nbformat": 4,
 "nbformat_minor": 5
}
