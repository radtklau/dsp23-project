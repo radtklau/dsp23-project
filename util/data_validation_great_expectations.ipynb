{
 "cells": [
  {
   "cell_type": "code",
   "execution_count": 1,
   "id": "00ea28ce-03c2-4b27-b114-6b87e65168ae",
   "metadata": {},
   "outputs": [],
   "source": [
    "import great_expectations as gx\n",
    "import pandas as pd\n",
    "from datetime import datetime\n",
    "from great_expectations.checkpoint import Checkpoint\n",
    "from great_expectations.data_context.types.base import DataContextConfig\n",
    "import logging"
   ]
  },
  {
   "cell_type": "code",
   "execution_count": 2,
   "id": "037a4cee-5836-4c06-8851-4453412d2301",
   "metadata": {},
   "outputs": [],
   "source": [
    "def create_validator(path, context):\n",
    "    validator = context.sources.pandas_default.read_csv(path)\n",
    "\n",
    "    validator.expect_column_values_to_not_be_null('TotRmsAbvGrd')\n",
    "    validator.expect_column_values_to_be_between('TotRmsAbvGrd', min_value=1, max_value=30)\n",
    "    validator.expect_column_values_to_not_be_null('WoodDeckSF')\n",
    "    validator.expect_column_values_to_not_be_null('YrSold')\n",
    "    validator.expect_column_values_to_not_be_null('1stFlrSF')\n",
    "    validator.expect_column_values_to_not_be_null('Foundation_BrkTil')\n",
    "    validator.expect_column_values_to_not_be_null('Foundation_CBlock')\n",
    "    validator.expect_column_values_to_not_be_null('Foundation_PConc')\n",
    "    validator.expect_column_values_to_not_be_null('Foundation_Slab')\n",
    "    validator.expect_column_values_to_not_be_null('Foundation_Stone')\n",
    "    validator.expect_column_values_to_not_be_null('Foundation_Wood')\n",
    "    validator.expect_column_values_to_not_be_null('KitchenQual_Ex')\n",
    "    validator.expect_column_values_to_not_be_null('KitchenQual_Fa')\n",
    "    validator.expect_column_values_to_not_be_null('KitchenQual_Gd')\n",
    "    validator.expect_column_values_to_not_be_null('KitchenQual_TA')\n",
    "    validator.save_expectation_suite(discard_failed_expectations=False)\n",
    "    return validator\n",
    "\n",
    "def validate(path, df):\n",
    "    context = gx.get_context()\n",
    "    now = datetime.now()\n",
    "\n",
    "    # datasource  = context.sources.add_pandas(\"house_datasource\")\n",
    "    # data_asset = datasource.add_dataframe_asset(name=\"house_asset\")\n",
    "    # batch_request = data_asset.build_batch_request(dataframe=df)\n",
    "\n",
    "    # context.add_or_update_expectation_suite(expectation_suite_name='expectation_house')\n",
    "    # validator = context.get_validator(\n",
    "    #     batch_request=data_asset.build_batch_request(dataframe=df),\n",
    "    #     expectation_suite_name='expectation_house',\n",
    "    # )\n",
    "    validator = create_validator(path, context)\n",
    "\n",
    "    # checkpoint = Checkpoint(\n",
    "    #     name=\"house_checkpoint\",\n",
    "    #     run_name_template=\"housing_checkpoint\",\n",
    "    #     data_context=context,\n",
    "    #     batch_request=batch_request,\n",
    "    #     expectation_suite_name='expectation_house',\n",
    "    #     action_list=[\n",
    "    #         {\n",
    "    #             \"name\": \"store_validation_result\",\n",
    "    #             \"action\": {\"class_name\": \"StoreValidationResultAction\"},\n",
    "    #         },\n",
    "    #             {\"name\": \"update_data_docs\", \"action\": {\"class_name\": \"UpdateDataDocsAction\"}},\n",
    "    #         ],\n",
    "    #     )\n",
    "\n",
    "    checkpoint = context.add_or_update_checkpoint(name='housing_checkpoint', validator=validator)\n",
    "    result_format: dict = {\n",
    "        \"result_format\": \"COMPLETE\",\n",
    "        \"unexpected_index_column_names\": [\"Id\"],\n",
    "    }\n",
    "    checkpoint_result = checkpoint.run(result_format=result_format)\n",
    "    context.view_validation_result(checkpoint_result)\n",
    "    return checkpoint_result"
   ]
  },
  {
   "cell_type": "code",
   "execution_count": 3,
   "id": "d8ea81fd-893b-44d9-807d-852493074745",
   "metadata": {},
   "outputs": [],
   "source": [
    "def filter_expectations_result(result_json):\n",
    "    # logging.info(result_json)\n",
    "    run_results = result_json['run_results']\n",
    "    val_result_id = list(run_results)[0]\n",
    "    val_results = run_results[val_result_id]['validation_result']\n",
    "\n",
    "    print(val_results['results'])\n",
    "    # info = ''\n",
    "    failed_rows = []\n",
    "    failed_cols = []\n",
    "    failed_conf = []\n",
    "\n",
    "    for res in val_results['results']:\n",
    "        if res['success'] == False:\n",
    "            _col = res['expectation_config']['kwargs']['column']\n",
    "            _exp_conf = res['expectation_config']['expectation_type']\n",
    "            # info += f'column -> {_col}\\n'\n",
    "            # info += f'    expectation_config -> {_exp_conf}\\n'\n",
    "            indexes_list = res['result']['partial_unexpected_index_list']\n",
    "            failed_rows_id = [item['Id'] for item in indexes_list]\n",
    "            failed_rows = list(set(failed_rows + failed_rows_id))\n",
    "            failed_conf = list(set(failed_conf + [_exp_conf]))\n",
    "            failed_cols = list(set(failed_cols + [_col]))\n",
    "            # info += f'    rows with errors -> {failed_rows_id}\\n'\n",
    "\n",
    "    desc = f'Validation Error on Rows {failed_rows} of file _FILENAME_ !'\n",
    "    desc += f'Columns {failed_cols} failed on the following expectations : {failed_conf}'\n",
    "    desc = desc.replace('[', '')\n",
    "    desc = desc.replace(']', '')\n",
    "    # logging.info(info)\n",
    "    return failed_rows, desc\n"
   ]
  },
  {
   "cell_type": "code",
   "execution_count": 4,
   "id": "a3586d3e-a6fc-47b8-9a57-a36d5054532a",
   "metadata": {},
   "outputs": [],
   "source": [
    "# path = '../data/folder_C/_file_0.csv'\n",
    "path = '../data/folder_A/file_0.csv'\n",
    "\n",
    "df = pd.read_csv(path)\n",
    "df = df[df.columns[1:]]"
   ]
  },
  {
   "cell_type": "code",
   "execution_count": 5,
   "id": "44e8fcdf-1c53-44fc-ba34-9e5314a5bf5e",
   "metadata": {},
   "outputs": [
    {
     "data": {
      "application/vnd.jupyter.widget-view+json": {
       "model_id": "8062bf6ef6f5400c85a9a12fc726dbaf",
       "version_major": 2,
       "version_minor": 0
      },
      "text/plain": [
       "Calculating Metrics:   0%|          | 0/6 [00:00<?, ?it/s]"
      ]
     },
     "metadata": {},
     "output_type": "display_data"
    },
    {
     "data": {
      "application/vnd.jupyter.widget-view+json": {
       "model_id": "092b8cebd7fc4a75af90d7095b1f5e3b",
       "version_major": 2,
       "version_minor": 0
      },
      "text/plain": [
       "Calculating Metrics:   0%|          | 0/8 [00:00<?, ?it/s]"
      ]
     },
     "metadata": {},
     "output_type": "display_data"
    },
    {
     "data": {
      "application/vnd.jupyter.widget-view+json": {
       "model_id": "020cbae23e2744bf8b0685b7177f4d0f",
       "version_major": 2,
       "version_minor": 0
      },
      "text/plain": [
       "Calculating Metrics:   0%|          | 0/6 [00:00<?, ?it/s]"
      ]
     },
     "metadata": {},
     "output_type": "display_data"
    },
    {
     "data": {
      "application/vnd.jupyter.widget-view+json": {
       "model_id": "b2fcf98996704c1fb6119261b8fa3cf7",
       "version_major": 2,
       "version_minor": 0
      },
      "text/plain": [
       "Calculating Metrics:   0%|          | 0/6 [00:00<?, ?it/s]"
      ]
     },
     "metadata": {},
     "output_type": "display_data"
    },
    {
     "data": {
      "application/vnd.jupyter.widget-view+json": {
       "model_id": "08367e695fe142968870a5d9916c7a74",
       "version_major": 2,
       "version_minor": 0
      },
      "text/plain": [
       "Calculating Metrics:   0%|          | 0/6 [00:00<?, ?it/s]"
      ]
     },
     "metadata": {},
     "output_type": "display_data"
    },
    {
     "data": {
      "application/vnd.jupyter.widget-view+json": {
       "model_id": "756f450910094bdcbb85434a95e625e3",
       "version_major": 2,
       "version_minor": 0
      },
      "text/plain": [
       "Calculating Metrics:   0%|          | 0/6 [00:00<?, ?it/s]"
      ]
     },
     "metadata": {},
     "output_type": "display_data"
    },
    {
     "data": {
      "application/vnd.jupyter.widget-view+json": {
       "model_id": "6c9ad6daae33488cb09680181a9bd9d7",
       "version_major": 2,
       "version_minor": 0
      },
      "text/plain": [
       "Calculating Metrics:   0%|          | 0/6 [00:00<?, ?it/s]"
      ]
     },
     "metadata": {},
     "output_type": "display_data"
    },
    {
     "data": {
      "application/vnd.jupyter.widget-view+json": {
       "model_id": "a27a6ddbabd94008babb1c2ee9b4f7ed",
       "version_major": 2,
       "version_minor": 0
      },
      "text/plain": [
       "Calculating Metrics:   0%|          | 0/6 [00:00<?, ?it/s]"
      ]
     },
     "metadata": {},
     "output_type": "display_data"
    },
    {
     "data": {
      "application/vnd.jupyter.widget-view+json": {
       "model_id": "62af43a02e2b4955a7665da38f9214a1",
       "version_major": 2,
       "version_minor": 0
      },
      "text/plain": [
       "Calculating Metrics:   0%|          | 0/6 [00:00<?, ?it/s]"
      ]
     },
     "metadata": {},
     "output_type": "display_data"
    },
    {
     "data": {
      "application/vnd.jupyter.widget-view+json": {
       "model_id": "e921f14b673b48588431b5247bd8ceee",
       "version_major": 2,
       "version_minor": 0
      },
      "text/plain": [
       "Calculating Metrics:   0%|          | 0/6 [00:00<?, ?it/s]"
      ]
     },
     "metadata": {},
     "output_type": "display_data"
    },
    {
     "data": {
      "application/vnd.jupyter.widget-view+json": {
       "model_id": "8e13bb2769b44296945b83e8a8f76352",
       "version_major": 2,
       "version_minor": 0
      },
      "text/plain": [
       "Calculating Metrics:   0%|          | 0/6 [00:00<?, ?it/s]"
      ]
     },
     "metadata": {},
     "output_type": "display_data"
    },
    {
     "data": {
      "application/vnd.jupyter.widget-view+json": {
       "model_id": "45e7317417e042269a41e0a6f219f87b",
       "version_major": 2,
       "version_minor": 0
      },
      "text/plain": [
       "Calculating Metrics:   0%|          | 0/6 [00:00<?, ?it/s]"
      ]
     },
     "metadata": {},
     "output_type": "display_data"
    },
    {
     "data": {
      "application/vnd.jupyter.widget-view+json": {
       "model_id": "98cad8a4d48647939c2b53006e97a574",
       "version_major": 2,
       "version_minor": 0
      },
      "text/plain": [
       "Calculating Metrics:   0%|          | 0/6 [00:00<?, ?it/s]"
      ]
     },
     "metadata": {},
     "output_type": "display_data"
    },
    {
     "data": {
      "application/vnd.jupyter.widget-view+json": {
       "model_id": "61f5dac5383e47b1bcd92c22515e2052",
       "version_major": 2,
       "version_minor": 0
      },
      "text/plain": [
       "Calculating Metrics:   0%|          | 0/6 [00:00<?, ?it/s]"
      ]
     },
     "metadata": {},
     "output_type": "display_data"
    },
    {
     "data": {
      "application/vnd.jupyter.widget-view+json": {
       "model_id": "6d6daeb4ca7a47f2864cd27b7bd77b51",
       "version_major": 2,
       "version_minor": 0
      },
      "text/plain": [
       "Calculating Metrics:   0%|          | 0/6 [00:00<?, ?it/s]"
      ]
     },
     "metadata": {},
     "output_type": "display_data"
    },
    {
     "data": {
      "application/vnd.jupyter.widget-view+json": {
       "model_id": "432172044bd3493b9dc8da4f1c689267",
       "version_major": 2,
       "version_minor": 0
      },
      "text/plain": [
       "Calculating Metrics:   0%|          | 0/78 [00:00<?, ?it/s]"
      ]
     },
     "metadata": {},
     "output_type": "display_data"
    }
   ],
   "source": [
    "result = validate(path,df)"
   ]
  },
  {
   "cell_type": "code",
   "execution_count": 69,
   "id": "587a8f6d-9e1c-4527-9da9-c36af9562b5f",
   "metadata": {},
   "outputs": [
    {
     "name": "stdout",
     "output_type": "stream",
     "text": [
      "[{'success': True, 'expectation_config': {'expectation_type': 'expect_column_values_to_not_be_null', 'kwargs': {'column': 'TotRmsAbvGrd', 'batch_id': 'default_pandas_datasource-#ephemeral_pandas_asset'}, 'meta': {}}, 'result': {'element_count': 10, 'unexpected_count': 0, 'unexpected_percent': 0.0, 'partial_unexpected_list': [], 'partial_unexpected_counts': [], 'partial_unexpected_index_list': [], 'unexpected_list': [], 'unexpected_index_list': [], 'unexpected_index_query': 'df.filter(items=[], axis=0)'}, 'meta': {}, 'exception_info': {'raised_exception': False, 'exception_traceback': None, 'exception_message': None}}, {'success': True, 'expectation_config': {'expectation_type': 'expect_column_values_to_be_between', 'kwargs': {'column': 'TotRmsAbvGrd', 'max_value': 30, 'min_value': 1, 'batch_id': 'default_pandas_datasource-#ephemeral_pandas_asset'}, 'meta': {}}, 'result': {'element_count': 10, 'unexpected_count': 0, 'unexpected_percent': 0.0, 'partial_unexpected_list': [], 'unexpected_index_column_names': ['Id'], 'missing_count': 0, 'missing_percent': 0.0, 'unexpected_percent_total': 0.0, 'unexpected_percent_nonmissing': 0.0, 'partial_unexpected_counts': [], 'partial_unexpected_index_list': [], 'unexpected_list': [], 'unexpected_index_list': [], 'unexpected_index_query': 'df.filter(items=[], axis=0)'}, 'meta': {}, 'exception_info': {'raised_exception': False, 'exception_traceback': None, 'exception_message': None}}, {'success': True, 'expectation_config': {'expectation_type': 'expect_column_values_to_not_be_null', 'kwargs': {'column': 'WoodDeckSF', 'batch_id': 'default_pandas_datasource-#ephemeral_pandas_asset'}, 'meta': {}}, 'result': {'element_count': 10, 'unexpected_count': 0, 'unexpected_percent': 0.0, 'partial_unexpected_list': [], 'partial_unexpected_counts': [], 'partial_unexpected_index_list': [], 'unexpected_list': [], 'unexpected_index_list': [], 'unexpected_index_query': 'df.filter(items=[], axis=0)'}, 'meta': {}, 'exception_info': {'raised_exception': False, 'exception_traceback': None, 'exception_message': None}}, {'success': True, 'expectation_config': {'expectation_type': 'expect_column_values_to_not_be_null', 'kwargs': {'column': 'YrSold', 'batch_id': 'default_pandas_datasource-#ephemeral_pandas_asset'}, 'meta': {}}, 'result': {'element_count': 10, 'unexpected_count': 0, 'unexpected_percent': 0.0, 'partial_unexpected_list': [], 'partial_unexpected_counts': [], 'partial_unexpected_index_list': [], 'unexpected_list': [], 'unexpected_index_list': [], 'unexpected_index_query': 'df.filter(items=[], axis=0)'}, 'meta': {}, 'exception_info': {'raised_exception': False, 'exception_traceback': None, 'exception_message': None}}, {'success': True, 'expectation_config': {'expectation_type': 'expect_column_values_to_not_be_null', 'kwargs': {'column': '1stFlrSF', 'batch_id': 'default_pandas_datasource-#ephemeral_pandas_asset'}, 'meta': {}}, 'result': {'element_count': 10, 'unexpected_count': 0, 'unexpected_percent': 0.0, 'partial_unexpected_list': [], 'partial_unexpected_counts': [], 'partial_unexpected_index_list': [], 'unexpected_list': [], 'unexpected_index_list': [], 'unexpected_index_query': 'df.filter(items=[], axis=0)'}, 'meta': {}, 'exception_info': {'raised_exception': False, 'exception_traceback': None, 'exception_message': None}}, {'success': True, 'expectation_config': {'expectation_type': 'expect_column_values_to_not_be_null', 'kwargs': {'column': 'Foundation_BrkTil', 'batch_id': 'default_pandas_datasource-#ephemeral_pandas_asset'}, 'meta': {}}, 'result': {'element_count': 10, 'unexpected_count': 0, 'unexpected_percent': 0.0, 'partial_unexpected_list': [], 'partial_unexpected_counts': [], 'partial_unexpected_index_list': [], 'unexpected_list': [], 'unexpected_index_list': [], 'unexpected_index_query': 'df.filter(items=[], axis=0)'}, 'meta': {}, 'exception_info': {'raised_exception': False, 'exception_traceback': None, 'exception_message': None}}, {'success': True, 'expectation_config': {'expectation_type': 'expect_column_values_to_not_be_null', 'kwargs': {'column': 'Foundation_CBlock', 'batch_id': 'default_pandas_datasource-#ephemeral_pandas_asset'}, 'meta': {}}, 'result': {'element_count': 10, 'unexpected_count': 0, 'unexpected_percent': 0.0, 'partial_unexpected_list': [], 'partial_unexpected_counts': [], 'partial_unexpected_index_list': [], 'unexpected_list': [], 'unexpected_index_list': [], 'unexpected_index_query': 'df.filter(items=[], axis=0)'}, 'meta': {}, 'exception_info': {'raised_exception': False, 'exception_traceback': None, 'exception_message': None}}, {'success': True, 'expectation_config': {'expectation_type': 'expect_column_values_to_not_be_null', 'kwargs': {'column': 'Foundation_PConc', 'batch_id': 'default_pandas_datasource-#ephemeral_pandas_asset'}, 'meta': {}}, 'result': {'element_count': 10, 'unexpected_count': 0, 'unexpected_percent': 0.0, 'partial_unexpected_list': [], 'partial_unexpected_counts': [], 'partial_unexpected_index_list': [], 'unexpected_list': [], 'unexpected_index_list': [], 'unexpected_index_query': 'df.filter(items=[], axis=0)'}, 'meta': {}, 'exception_info': {'raised_exception': False, 'exception_traceback': None, 'exception_message': None}}, {'success': True, 'expectation_config': {'expectation_type': 'expect_column_values_to_not_be_null', 'kwargs': {'column': 'Foundation_Slab', 'batch_id': 'default_pandas_datasource-#ephemeral_pandas_asset'}, 'meta': {}}, 'result': {'element_count': 10, 'unexpected_count': 0, 'unexpected_percent': 0.0, 'partial_unexpected_list': [], 'partial_unexpected_counts': [], 'partial_unexpected_index_list': [], 'unexpected_list': [], 'unexpected_index_list': [], 'unexpected_index_query': 'df.filter(items=[], axis=0)'}, 'meta': {}, 'exception_info': {'raised_exception': False, 'exception_traceback': None, 'exception_message': None}}, {'success': True, 'expectation_config': {'expectation_type': 'expect_column_values_to_not_be_null', 'kwargs': {'column': 'Foundation_Stone', 'batch_id': 'default_pandas_datasource-#ephemeral_pandas_asset'}, 'meta': {}}, 'result': {'element_count': 10, 'unexpected_count': 0, 'unexpected_percent': 0.0, 'partial_unexpected_list': [], 'partial_unexpected_counts': [], 'partial_unexpected_index_list': [], 'unexpected_list': [], 'unexpected_index_list': [], 'unexpected_index_query': 'df.filter(items=[], axis=0)'}, 'meta': {}, 'exception_info': {'raised_exception': False, 'exception_traceback': None, 'exception_message': None}}, {'success': True, 'expectation_config': {'expectation_type': 'expect_column_values_to_not_be_null', 'kwargs': {'column': 'Foundation_Wood', 'batch_id': 'default_pandas_datasource-#ephemeral_pandas_asset'}, 'meta': {}}, 'result': {'element_count': 10, 'unexpected_count': 0, 'unexpected_percent': 0.0, 'partial_unexpected_list': [], 'partial_unexpected_counts': [], 'partial_unexpected_index_list': [], 'unexpected_list': [], 'unexpected_index_list': [], 'unexpected_index_query': 'df.filter(items=[], axis=0)'}, 'meta': {}, 'exception_info': {'raised_exception': False, 'exception_traceback': None, 'exception_message': None}}, {'success': True, 'expectation_config': {'expectation_type': 'expect_column_values_to_not_be_null', 'kwargs': {'column': 'KitchenQual_Ex', 'batch_id': 'default_pandas_datasource-#ephemeral_pandas_asset'}, 'meta': {}}, 'result': {'element_count': 10, 'unexpected_count': 0, 'unexpected_percent': 0.0, 'partial_unexpected_list': [], 'partial_unexpected_counts': [], 'partial_unexpected_index_list': [], 'unexpected_list': [], 'unexpected_index_list': [], 'unexpected_index_query': 'df.filter(items=[], axis=0)'}, 'meta': {}, 'exception_info': {'raised_exception': False, 'exception_traceback': None, 'exception_message': None}}, {'success': True, 'expectation_config': {'expectation_type': 'expect_column_values_to_not_be_null', 'kwargs': {'column': 'KitchenQual_Fa', 'batch_id': 'default_pandas_datasource-#ephemeral_pandas_asset'}, 'meta': {}}, 'result': {'element_count': 10, 'unexpected_count': 0, 'unexpected_percent': 0.0, 'partial_unexpected_list': [], 'partial_unexpected_counts': [], 'partial_unexpected_index_list': [], 'unexpected_list': [], 'unexpected_index_list': [], 'unexpected_index_query': 'df.filter(items=[], axis=0)'}, 'meta': {}, 'exception_info': {'raised_exception': False, 'exception_traceback': None, 'exception_message': None}}, {'success': True, 'expectation_config': {'expectation_type': 'expect_column_values_to_not_be_null', 'kwargs': {'column': 'KitchenQual_Gd', 'batch_id': 'default_pandas_datasource-#ephemeral_pandas_asset'}, 'meta': {}}, 'result': {'element_count': 10, 'unexpected_count': 0, 'unexpected_percent': 0.0, 'partial_unexpected_list': [], 'partial_unexpected_counts': [], 'partial_unexpected_index_list': [], 'unexpected_list': [], 'unexpected_index_list': [], 'unexpected_index_query': 'df.filter(items=[], axis=0)'}, 'meta': {}, 'exception_info': {'raised_exception': False, 'exception_traceback': None, 'exception_message': None}}, {'success': False, 'expectation_config': {'expectation_type': 'expect_column_values_to_not_be_null', 'kwargs': {'column': 'KitchenQual_TA', 'batch_id': 'default_pandas_datasource-#ephemeral_pandas_asset'}, 'meta': {}}, 'result': {'element_count': 10, 'unexpected_count': 3, 'unexpected_percent': 30.0, 'partial_unexpected_list': [None, None, None], 'partial_unexpected_counts': [{'value': None, 'count': 1}, {'value': None, 'count': 1}, {'value': None, 'count': 1}], 'partial_unexpected_index_list': [{'KitchenQual_TA': None, 'Id': 187}, {'KitchenQual_TA': None, 'Id': 1036}, {'KitchenQual_TA': None, 'Id': 272}], 'unexpected_list': [None, None, None], 'unexpected_index_list': [{'KitchenQual_TA': None, 'Id': 187}, {'KitchenQual_TA': None, 'Id': 1036}, {'KitchenQual_TA': None, 'Id': 272}], 'unexpected_index_query': 'df.filter(items=[7, 8, 9], axis=0)'}, 'meta': {}, 'exception_info': {'raised_exception': False, 'exception_traceback': None, 'exception_message': None}}]\n",
      "[272, 187, 1036]\n",
      "Validation Error on Rows 272, 187, 1036 of file _FILENAME_ !Columns 'KitchenQual_TA' failed on the following expectations : 'expect_column_values_to_not_be_null'\n"
     ]
    }
   ],
   "source": [
    "log,failed_rows = filter_expectations_result(result.to_json_dict())\n",
    "print(log)\n",
    "print(failed_rows)"
   ]
  },
  {
   "cell_type": "code",
   "execution_count": 5,
   "id": "a9dfc660-454d-4cbd-9574-1293fbd0e357",
   "metadata": {},
   "outputs": [
    {
     "data": {
      "text/plain": [
       "[425, 411, 454, 828, 368, 1266, 1412]"
      ]
     },
     "execution_count": 5,
     "metadata": {},
     "output_type": "execute_result"
    }
   ],
   "source": [
    "filtered_df = df[~df['Id'].isin(failed_rows)]\n",
    "\n",
    "rows = list(filtered_df['Id'].values)\n",
    "rows"
   ]
  },
  {
   "cell_type": "code",
   "execution_count": 12,
   "id": "222e827b-3597-46fd-950b-5ec02341cbdc",
   "metadata": {},
   "outputs": [
    {
     "data": {
      "application/vnd.jupyter.widget-view+json": {
       "model_id": "13777110a454479892f2c4ae81a560af",
       "version_major": 2,
       "version_minor": 0
      },
      "text/plain": [
       "Calculating Metrics:   0%|          | 0/6 [00:00<?, ?it/s]"
      ]
     },
     "metadata": {},
     "output_type": "display_data"
    },
    {
     "data": {
      "application/vnd.jupyter.widget-view+json": {
       "model_id": "9e25f09aa3a94b9596ada82c3a76aafe",
       "version_major": 2,
       "version_minor": 0
      },
      "text/plain": [
       "Calculating Metrics:   0%|          | 0/8 [00:00<?, ?it/s]"
      ]
     },
     "metadata": {},
     "output_type": "display_data"
    },
    {
     "data": {
      "application/vnd.jupyter.widget-view+json": {
       "model_id": "5c5cb3caa1be4e51a486ba9e30755891",
       "version_major": 2,
       "version_minor": 0
      },
      "text/plain": [
       "Calculating Metrics:   0%|          | 0/6 [00:00<?, ?it/s]"
      ]
     },
     "metadata": {},
     "output_type": "display_data"
    },
    {
     "data": {
      "application/vnd.jupyter.widget-view+json": {
       "model_id": "08b327c28e62442d9795cc865af69d5d",
       "version_major": 2,
       "version_minor": 0
      },
      "text/plain": [
       "Calculating Metrics:   0%|          | 0/6 [00:00<?, ?it/s]"
      ]
     },
     "metadata": {},
     "output_type": "display_data"
    },
    {
     "data": {
      "application/vnd.jupyter.widget-view+json": {
       "model_id": "23f208728c974877ac33f6cd845feed6",
       "version_major": 2,
       "version_minor": 0
      },
      "text/plain": [
       "Calculating Metrics:   0%|          | 0/6 [00:00<?, ?it/s]"
      ]
     },
     "metadata": {},
     "output_type": "display_data"
    },
    {
     "data": {
      "application/vnd.jupyter.widget-view+json": {
       "model_id": "774ab2ba4b6246378e3b221067ff65c5",
       "version_major": 2,
       "version_minor": 0
      },
      "text/plain": [
       "Calculating Metrics:   0%|          | 0/6 [00:00<?, ?it/s]"
      ]
     },
     "metadata": {},
     "output_type": "display_data"
    },
    {
     "data": {
      "application/vnd.jupyter.widget-view+json": {
       "model_id": "f879404a2e43478c82c912ed6d1d995b",
       "version_major": 2,
       "version_minor": 0
      },
      "text/plain": [
       "Calculating Metrics:   0%|          | 0/8 [00:00<?, ?it/s]"
      ]
     },
     "metadata": {},
     "output_type": "display_data"
    },
    {
     "data": {
      "application/vnd.jupyter.widget-view+json": {
       "model_id": "e38e880978d94de4ad6edcabb36dd08f",
       "version_major": 2,
       "version_minor": 0
      },
      "text/plain": [
       "Calculating Metrics:   0%|          | 0/6 [00:00<?, ?it/s]"
      ]
     },
     "metadata": {},
     "output_type": "display_data"
    },
    {
     "data": {
      "application/vnd.jupyter.widget-view+json": {
       "model_id": "d41c9f0e87114b4e8ae6092bce4b7763",
       "version_major": 2,
       "version_minor": 0
      },
      "text/plain": [
       "Calculating Metrics:   0%|          | 0/8 [00:00<?, ?it/s]"
      ]
     },
     "metadata": {},
     "output_type": "display_data"
    },
    {
     "data": {
      "application/vnd.jupyter.widget-view+json": {
       "model_id": "89b2644297cf46a3aa6052f80318c1d1",
       "version_major": 2,
       "version_minor": 0
      },
      "text/plain": [
       "Calculating Metrics:   0%|          | 0/48 [00:00<?, ?it/s]"
      ]
     },
     "metadata": {},
     "output_type": "display_data"
    },
    {
     "name": "stdout",
     "output_type": "stream",
     "text": [
      "Validation Error on Rows [1323, 556, 411] of file _FILENAME_ !Columns ['Foundation'] failed on the following expectations : ['expect_column_values_to_be_in_set', 'expect_column_values_to_not_be_null']\n",
      "[1323, 556, 411]\n"
     ]
    }
   ],
   "source": [
    "path = '../data/folder_A/file_error_example.csv'\n",
    "context = gx.get_context()\n",
    "df = pd.read_csv(path)\n",
    "result = validate(path,df)\n",
    "log, failed_rows = log_failed_expectations(result.to_json_dict())\n",
    "print(log)\n",
    "print(failed_rows)"
   ]
  },
  {
   "cell_type": "code",
   "execution_count": null,
   "id": "dddbf911-51a2-4883-9ea6-46b4d5cfa449",
   "metadata": {},
   "outputs": [],
   "source": []
  }
 ],
 "metadata": {
  "kernelspec": {
   "display_name": "Python 3 (ipykernel)",
   "language": "python",
   "name": "python3"
  },
  "language_info": {
   "codemirror_mode": {
    "name": "ipython",
    "version": 3
   },
   "file_extension": ".py",
   "mimetype": "text/x-python",
   "name": "python",
   "nbconvert_exporter": "python",
   "pygments_lexer": "ipython3",
   "version": "3.9.18"
  }
 },
 "nbformat": 4,
 "nbformat_minor": 5
}
